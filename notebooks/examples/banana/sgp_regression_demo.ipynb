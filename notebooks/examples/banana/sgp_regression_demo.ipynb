{
 "cells": [
  {
   "cell_type": "code",
   "execution_count": null,
   "id": "quarterly-shannon",
   "metadata": {},
   "outputs": [],
   "source": [
    "%load_ext autoreload\n",
    "%autoreload 2\n",
    "\n",
    "import os\n",
    "import sys\n",
    "import logging\n",
    "\n",
    "module_path = os.path.abspath(os.path.join(\"../..\"))\n",
    "if module_path not in sys.path:\n",
    "    sys.path.append(module_path)"
   ]
  },
  {
   "cell_type": "code",
   "execution_count": null,
   "id": "sufficient-authentication",
   "metadata": {},
   "outputs": [],
   "source": [
    "from pvi.models import SparseGaussianProcessRegression\n",
    "from pvi.clients import Client\n",
    "from pvi.distributions import MultivariateGaussianDistributionWithZ\n",
    "from pvi.distributions import MultivariateGaussianFactorWithZ\n",
    "from pvi.models.kernels import RBFKernel\n",
    "\n",
    "import torch\n",
    "import numpy as np\n",
    "import matplotlib.pyplot as plt\n",
    "import gpytorch\n",
    "import tqdm.auto as tqdm\n",
    "\n",
    "from torch import nn\n",
    "\n",
    "%matplotlib inline\n",
    "torch.set_default_dtype(torch.float64)"
   ]
  },
  {
   "cell_type": "markdown",
   "id": "immediate-macintosh",
   "metadata": {},
   "source": [
    "# Set up data and helper functions"
   ]
  },
  {
   "cell_type": "code",
   "execution_count": null,
   "id": "great-necklace",
   "metadata": {},
   "outputs": [],
   "source": [
    "x = np.linspace(-1, 1, 50)\n",
    "y = 2 * np.sin(5*x) + 3 * np.abs(x) * np.random.rand(len(x))\n",
    "\n",
    "x = torch.tensor(x).unsqueeze(1)\n",
    "y = torch.tensor(y).unsqueeze(1)"
   ]
  },
  {
   "cell_type": "code",
   "execution_count": null,
   "id": "sticky-active",
   "metadata": {},
   "outputs": [],
   "source": [
    "def plot_data(x, y):\n",
    "    plt.figure()\n",
    "    plt.grid(b=True)\n",
    "    plt.scatter(x, y)\n",
    "    plt.show()\n",
    "    \n",
    "def plot_results(x, y, model, q):\n",
    "    pp = model(x, q)\n",
    "    mean = pp.mean.detach()\n",
    "    std = pp.variance.detach() ** 0.5\n",
    "    \n",
    "    samples = pp.sample((20,))\n",
    "    \n",
    "    plt.figure()\n",
    "    plt.grid(b=True)\n",
    "    \n",
    "    for sample in samples:\n",
    "        plt.plot(x, sample, color='k', alpha=.1)\n",
    "        \n",
    "    plt.plot(x.squeeze(-1), mean)\n",
    "    plt.fill_between(x.squeeze(-1), mean-1.96*std, mean+1.96*std, alpha=.25)\n",
    "    plt.scatter(x, y)\n",
    "    plt.show()\n",
    "    \n",
    "def plot_training(training_array):\n",
    "    x_vals = np.arange(1, len(training_array)+1)\n",
    "    plt.figure()\n",
    "    plt.grid(b=True)\n",
    "    plt.plot(x_vals, training_array)\n",
    "    plt.ylabel('ELBO Loss')\n",
    "    plt.xlabel('Step')\n",
    "    plt.show()\n",
    "    \n",
    "data = {\n",
    "    \"x\": x,\n",
    "    \"y\": y,\n",
    "}"
   ]
  },
  {
   "cell_type": "code",
   "execution_count": null,
   "id": "needed-decade",
   "metadata": {},
   "outputs": [],
   "source": [
    "plot_data(x, y)"
   ]
  },
  {
   "cell_type": "markdown",
   "id": "amended-underground",
   "metadata": {},
   "source": [
    "# Construct SGP model"
   ]
  },
  {
   "cell_type": "code",
   "execution_count": null,
   "id": "satisfied-musician",
   "metadata": {},
   "outputs": [],
   "source": [
    "model_config = {\n",
    "    \"D\": 1,\n",
    "    \"kernel_params\": {\n",
    "        \"train_hypers\": True,\n",
    "    }\n",
    "}\n",
    "\n",
    "model_hyperparameters = {\n",
    "    \"outputsigma\": .1,\n",
    "    \"outputscale\": 1.,\n",
    "    \"lengthscale\": .5,\n",
    "}\n",
    "\n",
    "model = SparseGaussianProcessRegression(hyperparameters=model_hyperparameters, config=model_config, train_sigma=True)\n",
    "\n",
    "\n",
    "inducing_locations = x[::10].clone()\n",
    "num_inducing = len(inducing_locations)\n",
    "q = MultivariateGaussianDistributionWithZ(\n",
    "    nat_params={\n",
    "        \"np1\": torch.zeros(num_inducing),\n",
    "        \"np2\": -0.5 * torch.eye(num_inducing)\n",
    "    },\n",
    "    inducing_locations=inducing_locations,\n",
    "    train_inducing=False,\n",
    ")"
   ]
  },
  {
   "cell_type": "code",
   "execution_count": null,
   "id": "excited-buyer",
   "metadata": {},
   "outputs": [],
   "source": [
    "model.hyperparameters"
   ]
  },
  {
   "cell_type": "code",
   "execution_count": null,
   "id": "graphic-award",
   "metadata": {},
   "outputs": [],
   "source": [
    "plot_results(x, y, model, q)"
   ]
  },
  {
   "cell_type": "markdown",
   "id": "central-testimony",
   "metadata": {},
   "source": [
    "# Fit data"
   ]
  },
  {
   "cell_type": "code",
   "execution_count": null,
   "id": "opening-thong",
   "metadata": {},
   "outputs": [],
   "source": [
    "t = MultivariateGaussianFactorWithZ(\n",
    "    nat_params = {\n",
    "        \"np1\": torch.tensor([0.] * num_inducing),\n",
    "        \"np2\": torch.tensor([0.] * num_inducing).diag_embed()\n",
    "    },\n",
    "    inducing_locations=inducing_locations,\n",
    "    train_inducing=False,\n",
    ")"
   ]
  },
  {
   "cell_type": "code",
   "execution_count": null,
   "id": "resident-factor",
   "metadata": {},
   "outputs": [],
   "source": [
    "print(t.nat_params)"
   ]
  },
  {
   "cell_type": "code",
   "execution_count": null,
   "id": "soviet-sequence",
   "metadata": {},
   "outputs": [],
   "source": [
    "client_config = {\n",
    "    \"epochs\": 200,\n",
    "    \"optimiser_params\": {\"lr\": 1e-1},\n",
    "    \"batch_size\": 50,\n",
    "    \"train_model\": True,\n",
    "}\n",
    "\n",
    "# Construct client.\n",
    "client = Client(data=data, model=model, t=t, config=client_config)"
   ]
  },
  {
   "cell_type": "markdown",
   "id": "steady-navigation",
   "metadata": {},
   "source": [
    "## Without optimising model (hyper-)parameters"
   ]
  },
  {
   "cell_type": "code",
   "execution_count": null,
   "id": "following-thomas",
   "metadata": {},
   "outputs": [],
   "source": [
    "q_new, t_new = client.update_q(q)"
   ]
  },
  {
   "cell_type": "code",
   "execution_count": null,
   "id": "demanding-offering",
   "metadata": {},
   "outputs": [],
   "source": [
    "plot_results(x, y, client.model, q_new)"
   ]
  }
 ],
 "metadata": {
  "kernelspec": {
   "display_name": "Python 3",
   "language": "python",
   "name": "python3"
  },
  "language_info": {
   "codemirror_mode": {
    "name": "ipython",
    "version": 3
   },
   "file_extension": ".py",
   "mimetype": "text/x-python",
   "name": "python",
   "nbconvert_exporter": "python",
   "pygments_lexer": "ipython3",
   "version": "3.8.8"
  }
 },
 "nbformat": 4,
 "nbformat_minor": 5
}
