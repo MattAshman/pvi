{
 "cells": [
  {
   "cell_type": "code",
   "execution_count": null,
   "id": "sweet-weather",
   "metadata": {},
   "outputs": [],
   "source": [
    "%load_ext autoreload\n",
    "%autoreload 2\n",
    "\n",
    "import os\n",
    "import sys\n",
    "import logging\n",
    "\n",
    "module_path = os.path.abspath(os.path.join(\"../..\"))\n",
    "if module_path not in sys.path:\n",
    "    sys.path.append(module_path)"
   ]
  },
  {
   "cell_type": "code",
   "execution_count": null,
   "id": "specialized-abraham",
   "metadata": {},
   "outputs": [],
   "source": [
    "from pvi.models import LinearRegressionModel\n",
    "from pvi.clients import Client\n",
    "from pvi.distributions import MultivariateGaussianDistribution\n",
    "from pvi.distributions import MultivariateGaussianFactor\n",
    "\n",
    "import torch\n",
    "import numpy as np\n",
    "import matplotlib.pyplot as plt\n",
    "import tqdm.auto as tqdm\n",
    "\n",
    "from torch import nn\n",
    "\n",
    "%matplotlib inline\n",
    "torch.set_default_dtype(torch.float64)"
   ]
  },
  {
   "cell_type": "markdown",
   "id": "hungarian-intent",
   "metadata": {},
   "source": [
    "# Set up data and helper functions"
   ]
  },
  {
   "cell_type": "code",
   "execution_count": null,
   "id": "brutal-triple",
   "metadata": {},
   "outputs": [],
   "source": [
    "x = np.linspace(-1, 1, 10)\n",
    "y = 2 * x + 3 * np.abs(x) * np.random.rand(len(x))\n",
    "\n",
    "x = torch.tensor(x).unsqueeze(1)\n",
    "y = torch.tensor(y).unsqueeze(1)"
   ]
  },
  {
   "cell_type": "code",
   "execution_count": null,
   "id": "preliminary-vintage",
   "metadata": {},
   "outputs": [],
   "source": [
    "def plot_data(x, y):\n",
    "    plt.figure()\n",
    "    plt.grid(b=True)\n",
    "    plt.scatter(x, y)\n",
    "    plt.show()\n",
    "    \n",
    "def plot_results(x, y, model, q):\n",
    "    pp = model(x, q)\n",
    "    mean = pp.mean.detach()\n",
    "    std = pp.variance.detach() ** 0.5\n",
    "    \n",
    "    w_samples = q.distribution.sample((20,))\n",
    "    \n",
    "    plt.figure()\n",
    "    plt.grid(b=True)\n",
    "    \n",
    "    for w in w_samples:\n",
    "        plt.plot(x, x * w[0] + w[1], color='k', alpha=.1)\n",
    "        \n",
    "    plt.plot(x.squeeze(-1), mean)\n",
    "    plt.fill_between(x.squeeze(-1), mean-1.96*std, mean+1.96*std, alpha=.25)\n",
    "    plt.scatter(x, y)\n",
    "    plt.show()\n",
    "    \n",
    "def plot_training(training_array):\n",
    "    x_vals = np.arange(1, len(training_array)+1)\n",
    "    plt.figure()\n",
    "    plt.grid(b=True)\n",
    "    plt.plot(x_vals, training_array)\n",
    "    plt.ylabel('ELBO Loss')\n",
    "    plt.xlabel('Step')\n",
    "    plt.show()\n",
    "    \n",
    "data = {\n",
    "    \"x\": x,\n",
    "    \"y\": y,\n",
    "}"
   ]
  },
  {
   "cell_type": "code",
   "execution_count": null,
   "id": "designed-rachel",
   "metadata": {},
   "outputs": [],
   "source": [
    "plot_data(x, y)"
   ]
  },
  {
   "cell_type": "markdown",
   "id": "informational-screening",
   "metadata": {},
   "source": [
    "# Construct linear regression model"
   ]
  },
  {
   "cell_type": "code",
   "execution_count": null,
   "id": "afraid-reconstruction",
   "metadata": {},
   "outputs": [],
   "source": [
    "model_config = {\n",
    "    \"D\": 1,\n",
    "}\n",
    "\n",
    "model_hyperparameters = {\n",
    "    \"output_sigma\": torch.tensor(.25),\n",
    "}\n",
    "\n",
    "model = LinearRegressionModel(train_sigma=False, config=model_config, hyperparameters=model_hyperparameters)\n",
    "\n",
    "q = MultivariateGaussianDistribution(\n",
    "    nat_params={\n",
    "        \"np1\": torch.zeros(model_config[\"D\"]+1),\n",
    "        \"np2\": -0.5 * torch.eye(model_config[\"D\"]+1)\n",
    "    }\n",
    ")"
   ]
  },
  {
   "cell_type": "code",
   "execution_count": null,
   "id": "buried-ceramic",
   "metadata": {},
   "outputs": [],
   "source": [
    "plot_results(x, y, model, q)"
   ]
  },
  {
   "cell_type": "markdown",
   "id": "awful-turner",
   "metadata": {},
   "source": [
    "# Fit data"
   ]
  },
  {
   "cell_type": "code",
   "execution_count": null,
   "id": "portable-second",
   "metadata": {},
   "outputs": [],
   "source": [
    "t = MultivariateGaussianFactor(\n",
    "    nat_params={\n",
    "        \"np1\": torch.zeros(model.config[\"D\"]+1),\n",
    "        \"np2\": 0. * torch.eye(model.config[\"D\"]+1),\n",
    "    }\n",
    ")"
   ]
  },
  {
   "cell_type": "code",
   "execution_count": null,
   "id": "centered-cause",
   "metadata": {},
   "outputs": [],
   "source": [
    "client_config = {\n",
    "    \"epochs\": 1000,\n",
    "    \"optimiser\": \"Adam\",\n",
    "    \"optimiser_params\": {\"lr\": 1e-2},\n",
    "}\n",
    "\n",
    "\n",
    "# Construct client.\n",
    "client = Client(data=data, model=model, t=t, config=client_config)"
   ]
  },
  {
   "cell_type": "markdown",
   "id": "numerical-reverse",
   "metadata": {},
   "source": [
    "## Without optimising model (hyper-)parameters"
   ]
  },
  {
   "cell_type": "code",
   "execution_count": null,
   "id": "resistant-sally",
   "metadata": {},
   "outputs": [],
   "source": [
    "q_new, t_new = client.update_q(q)"
   ]
  },
  {
   "cell_type": "code",
   "execution_count": null,
   "id": "controlling-martin",
   "metadata": {},
   "outputs": [],
   "source": [
    "type(q_new) == client.model.conjugate_family"
   ]
  },
  {
   "cell_type": "code",
   "execution_count": null,
   "id": "civil-constitutional",
   "metadata": {},
   "outputs": [],
   "source": [
    "plot_results(x, y, client.model, q_new)"
   ]
  },
  {
   "cell_type": "code",
   "execution_count": null,
   "id": "narrow-effects",
   "metadata": {},
   "outputs": [],
   "source": []
  }
 ],
 "metadata": {
  "kernelspec": {
   "display_name": "Python 3",
   "language": "python",
   "name": "python3"
  },
  "language_info": {
   "codemirror_mode": {
    "name": "ipython",
    "version": 3
   },
   "file_extension": ".py",
   "mimetype": "text/x-python",
   "name": "python",
   "nbconvert_exporter": "python",
   "pygments_lexer": "ipython3",
   "version": "3.8.8"
  }
 },
 "nbformat": 4,
 "nbformat_minor": 5
}
