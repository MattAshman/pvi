{
 "cells": [
  {
   "cell_type": "code",
   "execution_count": null,
   "id": "harmful-isolation",
   "metadata": {},
   "outputs": [],
   "source": [
    "%load_ext autoreload\n",
    "%autoreload 2\n",
    "\n",
    "import os\n",
    "import sys\n",
    "import logging\n",
    "\n",
    "module_path = os.path.abspath(os.path.join(\"../..\"))\n",
    "if module_path not in sys.path:\n",
    "    sys.path.append(module_path)"
   ]
  },
  {
   "cell_type": "code",
   "execution_count": null,
   "id": "direct-delivery",
   "metadata": {},
   "outputs": [],
   "source": [
    "from pvi.models.linear_regression import LinearRegressionModel\n",
    "from pvi.utils.gaussian import mvstandard2natural, mvnatural2standard\n",
    "\n",
    "import torch\n",
    "import numpy as np\n",
    "import matplotlib.pyplot as plt\n",
    "import tqdm.auto as tqdm\n",
    "\n",
    "from torch import nn\n",
    "\n",
    "%matplotlib inline\n",
    "torch.set_default_dtype(torch.float64)"
   ]
  },
  {
   "cell_type": "markdown",
   "id": "driven-sunset",
   "metadata": {},
   "source": [
    "# Set up data and helper functions"
   ]
  },
  {
   "cell_type": "code",
   "execution_count": null,
   "id": "amazing-being",
   "metadata": {},
   "outputs": [],
   "source": [
    "x = np.linspace(-1, 1, 10)\n",
    "y = 2 * x + 3 * np.abs(x) * np.random.rand(len(x))\n",
    "\n",
    "x = torch.tensor(x).unsqueeze(1)\n",
    "y = torch.tensor(y).unsqueeze(1)"
   ]
  },
  {
   "cell_type": "code",
   "execution_count": null,
   "id": "southern-penny",
   "metadata": {},
   "outputs": [],
   "source": [
    "def plot_data(x, y):\n",
    "    plt.figure()\n",
    "    plt.grid(b=True)\n",
    "    plt.scatter(x, y)\n",
    "    plt.show()\n",
    "    \n",
    "def plot_results(x, y, model, q):\n",
    "    pp = model(x, q)\n",
    "    mean = pp.mean.detach()\n",
    "    std = pp.variance.detach() ** 0.5\n",
    "    \n",
    "    w_samples = q[\"distribution\"].sample((20,))\n",
    "    \n",
    "    plt.figure()\n",
    "    plt.grid(b=True)\n",
    "    \n",
    "    for w in w_samples:\n",
    "        plt.plot(x, x * w[0] + w[1], color='k', alpha=.1)\n",
    "        \n",
    "    plt.plot(x.squeeze(-1), mean)\n",
    "    plt.fill_between(x.squeeze(-1), mean-1.96*std, mean+1.96*std, alpha=.25)\n",
    "    plt.scatter(x, y)\n",
    "    plt.show()\n",
    "    \n",
    "def plot_training(training_array):\n",
    "    x_vals = np.arange(1, len(training_array)+1)\n",
    "    plt.figure()\n",
    "    plt.grid(b=True)\n",
    "    plt.plot(x_vals, training_array)\n",
    "    plt.ylabel('ELBO Loss')\n",
    "    plt.xlabel('Step')\n",
    "    plt.show()\n",
    "    \n",
    "data = {\n",
    "    \"x\": x,\n",
    "    \"y\": y,\n",
    "}"
   ]
  },
  {
   "cell_type": "code",
   "execution_count": null,
   "id": "photographic-baseball",
   "metadata": {},
   "outputs": [],
   "source": [
    "plot_data(x, y)"
   ]
  },
  {
   "cell_type": "markdown",
   "id": "swedish-helmet",
   "metadata": {},
   "source": [
    "# Construct linear regression model"
   ]
  },
  {
   "cell_type": "code",
   "execution_count": null,
   "id": "lovely-notion",
   "metadata": {},
   "outputs": [],
   "source": [
    "hyperparameters = {\n",
    "    \"D\": 1,\n",
    "    \"epochs\": 1000,\n",
    "    \"optimiser_class\": torch.optim.Adam,\n",
    "    \"optimiser_params\": {\"lr\": 1e-2},\n",
    "}\n",
    "\n",
    "model = LinearRegressionModel(output_sigma=.25, hyperparameters=hyperparameters)\n",
    "\n",
    "q = {\n",
    "    \"nat_params\": {\n",
    "        \"np1\": torch.zeros(hyperparameters[\"D\"]+1),\n",
    "        \"np2\": -0.5 * torch.eye(hyperparameters[\"D\"]+1)\n",
    "    }\n",
    "}\n",
    "\n",
    "q_mu, q_cov = mvnatural2standard(q[\"nat_params\"][\"np1\"], q[\"nat_params\"][\"np2\"])\n",
    "q_dist = torch.distributions.MultivariateNormal(q_mu, covariance_matrix=q_cov)\n",
    "q[\"distribution\"] = q_dist"
   ]
  },
  {
   "cell_type": "code",
   "execution_count": null,
   "id": "piano-verse",
   "metadata": {},
   "outputs": [],
   "source": [
    "plot_results(x, y, model, q)"
   ]
  },
  {
   "cell_type": "markdown",
   "id": "scientific-prediction",
   "metadata": {},
   "source": [
    "# Fit data"
   ]
  },
  {
   "cell_type": "code",
   "execution_count": null,
   "id": "affiliated-therapy",
   "metadata": {},
   "outputs": [],
   "source": [
    "t = {\n",
    "    \"nat_params\": {\n",
    "        \"np1\": torch.zeros(model.hyperparameters[\"D\"]+1),\n",
    "        \"np2\": 0. * torch.eye(model.hyperparameters[\"D\"]+1),\n",
    "    }\n",
    "}"
   ]
  },
  {
   "cell_type": "markdown",
   "id": "dirty-lightweight",
   "metadata": {},
   "source": [
    "## First without optimising model hyperparameters"
   ]
  },
  {
   "cell_type": "code",
   "execution_count": null,
   "id": "adverse-interview",
   "metadata": {},
   "outputs": [],
   "source": [
    "q_new, t_new = model.conjugate_update(data, q, t)"
   ]
  },
  {
   "cell_type": "code",
   "execution_count": null,
   "id": "pressed-lawsuit",
   "metadata": {},
   "outputs": [],
   "source": [
    "qmu, qcov = mvnatural2standard(q_new[\"nat_params\"][\"np1\"], q_new[\"nat_params\"][\"np2\"])\n",
    "q_dist = torch.distributions.MultivariateNormal(qmu, covariance_matrix=qcov)\n",
    "\n",
    "q_new[\"distribution\"] = q_dist"
   ]
  },
  {
   "cell_type": "code",
   "execution_count": null,
   "id": "republican-hypothetical",
   "metadata": {},
   "outputs": [],
   "source": [
    "plot_results(x, y, model, q_new)"
   ]
  },
  {
   "cell_type": "markdown",
   "id": "quarterly-marsh",
   "metadata": {},
   "source": [
    "## Now optimising model hyperparameters"
   ]
  },
  {
   "cell_type": "code",
   "execution_count": null,
   "id": "potential-canal",
   "metadata": {},
   "outputs": [],
   "source": [
    "def fit(model, data, q, t_i):\n",
    "    # Set up optimiser.\n",
    "    if model.hyperparameters[\"optimiser_class\"] is not None:\n",
    "        optimiser = model.hyperparameters[\"optimiser_class\"](\n",
    "            model.parameters(), **model.hyperparameters[\"optimiser_params\"]\n",
    "        )\n",
    "    else:\n",
    "        optimiser = optim.Adam(\n",
    "            model.parameters(), **model.hyperparameters[\"optimiser_params\"]\n",
    "        )\n",
    "        \n",
    "    # Local optimisation to find new parameters.\n",
    "    training_curves = {\n",
    "        \"mll\": [],\n",
    "    }\n",
    "    \n",
    "    # Compute local factor and current global posterior.\n",
    "    q, t_i = model.conjugate_update(data, q, t_i)\n",
    "\n",
    "    q_mu, q_cov = mvnatural2standard(q[\"nat_params\"][\"np1\"], q[\"nat_params\"][\"np2\"])\n",
    "    q_dist = torch.distributions.MultivariateNormal(q_mu, covariance_matrix=q_cov)\n",
    "    q[\"distribution\"] = q_dist\n",
    "    \n",
    "    epoch_iter = tqdm.tqdm(range(model.hyperparameters[\"epochs\"]), desc=\"Epochs\")\n",
    "    for i in epoch_iter:\n",
    "        # Compute cavity distribution.\n",
    "        qcav = {\n",
    "            \"nat_params\": {\n",
    "                \"np1\": q[\"nat_params\"][\"np1\"] - t_i[\"nat_params\"][\"np1\"],\n",
    "                \"np2\": q[\"nat_params\"][\"np2\"] - t_i[\"nat_params\"][\"np2\"],\n",
    "            }\n",
    "        }\n",
    "        qcav_mu, qcav_cov = mvnatural2standard(qcav[\"nat_params\"][\"np1\"], qcav[\"nat_params\"][\"np2\"])\n",
    "        qcav_dist = torch.distributions.MultivariateNormal(qcav_mu, qcav_cov)\n",
    "        qcav[\"distribution\"] = qcav_dist\n",
    "        \n",
    "        # Compute MLL.\n",
    "        mll = model.mll(data, q)\n",
    "        loss = -mll\n",
    "        \n",
    "        # Backwards step.\n",
    "        loss.backward()\n",
    "        optimiser.step()\n",
    "        optimiser.zero_grad()\n",
    "        \n",
    "        # Compute local factor and current global posterior.\n",
    "#         with torch.no_grad():\n",
    "        q, t_i = model.conjugate_update(data, q, t_i)\n",
    "\n",
    "        q_mu, q_cov = mvnatural2standard(q[\"nat_params\"][\"np1\"], q[\"nat_params\"][\"np2\"])\n",
    "        q_dist = torch.distributions.MultivariateNormal(q_mu, covariance_matrix=q_cov)\n",
    "        q[\"distribution\"] = q_dist\n",
    "        \n",
    "        training_curves[\"mll\"].append(mll.item())\n",
    "        \n",
    "    return q, t_i, training_curves"
   ]
  },
  {
   "cell_type": "code",
   "execution_count": null,
   "id": "exotic-speaker",
   "metadata": {},
   "outputs": [],
   "source": [
    "q_new, t_new, training_curves = fit(model, data, q, t)"
   ]
  },
  {
   "cell_type": "code",
   "execution_count": null,
   "id": "narrative-civilian",
   "metadata": {},
   "outputs": [],
   "source": [
    "plot_training(training_curves[\"mll\"])"
   ]
  },
  {
   "cell_type": "code",
   "execution_count": null,
   "id": "cellular-chess",
   "metadata": {},
   "outputs": [],
   "source": [
    "plot_results(x, y, model, q_new)"
   ]
  }
 ],
 "metadata": {
  "kernelspec": {
   "display_name": "Python 3",
   "language": "python",
   "name": "python3"
  },
  "language_info": {
   "codemirror_mode": {
    "name": "ipython",
    "version": 3
   },
   "file_extension": ".py",
   "mimetype": "text/x-python",
   "name": "python",
   "nbconvert_exporter": "python",
   "pygments_lexer": "ipython3",
   "version": "3.8.8"
  }
 },
 "nbformat": 4,
 "nbformat_minor": 5
}
