{
 "cells": [
  {
   "cell_type": "code",
   "execution_count": null,
   "id": "recent-separation",
   "metadata": {},
   "outputs": [],
   "source": [
    "%load_ext autoreload\n",
    "%autoreload 2\n",
    "\n",
    "\n",
    "import os\n",
    "import sys\n",
    "import logging\n",
    "\n",
    "module_path = os.path.abspath(os.path.join(\"../..\"))\n",
    "if module_path not in sys.path:\n",
    "    sys.path.append(module_path)"
   ]
  },
  {
   "cell_type": "code",
   "execution_count": null,
   "id": "statutory-minimum",
   "metadata": {},
   "outputs": [],
   "source": [
    "from pvi.models.linear_regression import LinearRegressionModel\n",
    "from pvi.likelihoods.linear_regression import LinearRegressionLikelihood\n",
    "\n",
    "import torch\n",
    "import numpy as np\n",
    "import matplotlib.pyplot as plt\n",
    "\n",
    "from torch import nn\n",
    "\n",
    "%matplotlib inline\n",
    "torch.set_default_dtype(torch.float64)"
   ]
  },
  {
   "cell_type": "markdown",
   "id": "intended-receptor",
   "metadata": {},
   "source": [
    "# Construct logistic regression model"
   ]
  },
  {
   "cell_type": "code",
   "execution_count": null,
   "id": "international-trinity",
   "metadata": {},
   "outputs": [],
   "source": [
    "prior_params = {\n",
    "    \"np1\": nn.Parameter(torch.tensor([0.0, 0.0]), requires_grad=False),\n",
    "    \"np2\": nn.Parameter(torch.tensor([-.5, -.5]).diag_embed(),\n",
    "                        requires_grad=False)\n",
    "}\n",
    "\n",
    "# Initally local likelihood is zero - init at the prior!\n",
    "current_params = prior_params \n",
    "\n",
    "hyperparameters = {\n",
    "    \"D\": 1\n",
    "}\n",
    "\n",
    "model = LinearRegressionModel(output_sigma=1., nat_params=prior_params, hyperparameters=hyperparameters)"
   ]
  },
  {
   "cell_type": "markdown",
   "id": "stuffed-musical",
   "metadata": {},
   "source": [
    "# Set up data"
   ]
  },
  {
   "cell_type": "code",
   "execution_count": null,
   "id": "chronic-classic",
   "metadata": {},
   "outputs": [],
   "source": [
    "x = np.linspace(-1, 1, 10)\n",
    "y = 2 * x + 3 * np.abs(x) * np.random.rand(len(x))\n",
    "\n",
    "x = torch.tensor(x).unsqueeze(1)\n",
    "y = torch.tensor(y).unsqueeze(1)"
   ]
  },
  {
   "cell_type": "code",
   "execution_count": null,
   "id": "unknown-cutting",
   "metadata": {},
   "outputs": [],
   "source": [
    "def plot_data(x, y):\n",
    "    plt.figure()\n",
    "    plt.grid(b=True)\n",
    "    plt.scatter(x, y)\n",
    "    plt.show()\n",
    "    \n",
    "def plot_results(x, y, model):\n",
    "    pp = model(x)\n",
    "    mean = pp.mean\n",
    "    std = pp.variance ** 0.5\n",
    "    \n",
    "    pw = model.get_distribution()\n",
    "    w_samples = pw.sample((20,))\n",
    "    \n",
    "    plt.figure()\n",
    "    plt.grid(b=True)\n",
    "    \n",
    "    for w in w_samples:\n",
    "        plt.plot(x, x * w[0] + w[1], color='k', alpha=.1)\n",
    "        \n",
    "    plt.plot(x.squeeze(-1), mean)\n",
    "    plt.fill_between(x.squeeze(-1), mean-1.96*std, mean+1.96*std, alpha=.25)\n",
    "    plt.show()\n",
    "    \n",
    "data = {\n",
    "    \"x\": x,\n",
    "    \"y\": y,\n",
    "}\n",
    "\n",
    "t = {\n",
    "    \"np1\": torch.tensor([0., 0.]),\n",
    "    \"np2\": torch.tensor([0., 0.]).diag_embed()\n",
    "}"
   ]
  },
  {
   "cell_type": "code",
   "execution_count": null,
   "id": "superb-cinema",
   "metadata": {},
   "outputs": [],
   "source": [
    "plot_data(x, y)"
   ]
  },
  {
   "cell_type": "code",
   "execution_count": null,
   "id": "incorporated-reynolds",
   "metadata": {},
   "outputs": [],
   "source": [
    "plot_results(x, y, model)"
   ]
  },
  {
   "cell_type": "code",
   "execution_count": null,
   "id": "becoming-shore",
   "metadata": {},
   "outputs": [],
   "source": [
    "t_new = model.fit(data, t)"
   ]
  },
  {
   "cell_type": "code",
   "execution_count": null,
   "id": "horizontal-chancellor",
   "metadata": {},
   "outputs": [],
   "source": [
    "plot_results(x, y, model)"
   ]
  },
  {
   "cell_type": "code",
   "execution_count": null,
   "id": "reduced-nutrition",
   "metadata": {},
   "outputs": [],
   "source": []
  }
 ],
 "metadata": {
  "kernelspec": {
   "display_name": "Python 3",
   "language": "python",
   "name": "python3"
  },
  "language_info": {
   "codemirror_mode": {
    "name": "ipython",
    "version": 3
   },
   "file_extension": ".py",
   "mimetype": "text/x-python",
   "name": "python",
   "nbconvert_exporter": "python",
   "pygments_lexer": "ipython3",
   "version": "3.8.8"
  }
 },
 "nbformat": 4,
 "nbformat_minor": 5
}
