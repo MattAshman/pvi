{
 "cells": [
  {
   "cell_type": "code",
   "execution_count": null,
   "id": "stretch-movement",
   "metadata": {},
   "outputs": [],
   "source": [
    "%load_ext autoreload\n",
    "%autoreload 2\n",
    "\n",
    "\n",
    "import os\n",
    "import sys\n",
    "import logging\n",
    "\n",
    "module_path = os.path.abspath(os.path.join(\"../..\"))\n",
    "if module_path not in sys.path:\n",
    "    sys.path.append(module_path)"
   ]
  },
  {
   "cell_type": "code",
   "execution_count": null,
   "id": "processed-heater",
   "metadata": {},
   "outputs": [],
   "source": [
    "from pvi.models.sgp import StochasticSparseGaussianProcessModel\n",
    "\n",
    "import torch\n",
    "import numpy as np\n",
    "import matplotlib.pyplot as plt\n",
    "import gpytorch\n",
    "\n",
    "from torch import nn\n",
    "from gpytorch.kernels import ScaleKernel, RBFKernel\n",
    "\n",
    "%matplotlib inline\n",
    "torch.set_default_dtype(torch.float64)"
   ]
  },
  {
   "cell_type": "markdown",
   "id": "ambient-finger",
   "metadata": {},
   "source": [
    "# Set up data and helper functions"
   ]
  },
  {
   "cell_type": "code",
   "execution_count": null,
   "id": "improved-conviction",
   "metadata": {},
   "outputs": [],
   "source": [
    "x = np.linspace(-1, 1, 50)\n",
    "y = 2 * np.sin(5*x) + 3 * np.abs(x) * np.random.rand(len(x))\n",
    "\n",
    "x = torch.tensor(x).unsqueeze(1)\n",
    "y = torch.tensor(y).unsqueeze(1)"
   ]
  },
  {
   "cell_type": "code",
   "execution_count": null,
   "id": "addressed-possible",
   "metadata": {},
   "outputs": [],
   "source": [
    "def plot_data(x, y):\n",
    "    plt.figure()\n",
    "    plt.grid(b=True)\n",
    "    plt.scatter(x, y)\n",
    "    plt.show()\n",
    "    \n",
    "def plot_results(x, y, model):\n",
    "    pp = model(x)\n",
    "    mean = pp.mean.detach()\n",
    "    std = pp.variance.detach() ** 0.5\n",
    "    \n",
    "    samples = pp.sample((20,))\n",
    "    \n",
    "    plt.figure()\n",
    "    plt.grid(b=True)\n",
    "    \n",
    "    for sample in samples:\n",
    "        plt.plot(x, sample, color='k', alpha=.1)\n",
    "        \n",
    "    plt.plot(x.squeeze(-1), mean)\n",
    "    plt.fill_between(x.squeeze(-1), mean-1.96*std, mean+1.96*std, alpha=.25)\n",
    "    plt.scatter(x, y)\n",
    "    plt.show()\n",
    "    \n",
    "def plot_training(training_array):\n",
    "    x_vals = np.arange(1, len(training_array)+1)\n",
    "    plt.figure()\n",
    "    plt.grid(b=True)\n",
    "    plt.plot(x_vals, training_array)\n",
    "    plt.ylabel('ELBO Loss')\n",
    "    plt.xlabel('Step')\n",
    "    plt.show()\n",
    "    \n",
    "data = {\n",
    "    \"x\": x,\n",
    "    \"y\": y,\n",
    "}"
   ]
  },
  {
   "cell_type": "code",
   "execution_count": null,
   "id": "executed-accounting",
   "metadata": {},
   "outputs": [],
   "source": [
    "plot_data(x, y)"
   ]
  },
  {
   "cell_type": "markdown",
   "id": "greater-secretariat",
   "metadata": {},
   "source": [
    "# Construct SGP model"
   ]
  },
  {
   "cell_type": "code",
   "execution_count": null,
   "id": "dominant-palace",
   "metadata": {},
   "outputs": [],
   "source": [
    "hyperparameters = {\n",
    "    \"D\": 1,\n",
    "    \"num_inducing\": 5,\n",
    "    \"kernel_class\": RBFKernel,\n",
    "    \"kernel_params\": {\"lengthscale\": .5},\n",
    "    \"epochs\": 5000,\n",
    "    \"optimiser_params\": {\"lr\": 1e-4},\n",
    "    \"batch_size\": 50\n",
    "}\n",
    "\n",
    "inducing_locations = x[::10].clone()\n",
    "\n",
    "model = StochasticSparseGaussianProcessModel(\n",
    "    inducing_locations=inducing_locations,  output_sigma=.5, \n",
    "    hyperparameters=hyperparameters)"
   ]
  },
  {
   "cell_type": "code",
   "execution_count": null,
   "id": "thorough-harmony",
   "metadata": {},
   "outputs": [],
   "source": [
    "plot_results(x, y, model)"
   ]
  },
  {
   "cell_type": "markdown",
   "id": "massive-nashville",
   "metadata": {},
   "source": [
    "# Fit data"
   ]
  },
  {
   "cell_type": "code",
   "execution_count": null,
   "id": "female-river",
   "metadata": {},
   "outputs": [],
   "source": [
    "t = {\n",
    "    \"np1\": torch.tensor([0.]*model.hyperparameters[\"num_inducing\"]),\n",
    "    \"np2\": torch.tensor([0.]*model.hyperparameters[\"num_inducing\"]).diag_embed()\n",
    "}"
   ]
  },
  {
   "cell_type": "code",
   "execution_count": null,
   "id": "informative-nomination",
   "metadata": {},
   "outputs": [],
   "source": [
    "t_new = model.fit(data, t)"
   ]
  },
  {
   "cell_type": "code",
   "execution_count": null,
   "id": "light-update",
   "metadata": {},
   "outputs": [],
   "source": [
    "plot_results(x, y, model)"
   ]
  },
  {
   "cell_type": "code",
   "execution_count": null,
   "id": "scheduled-bangkok",
   "metadata": {},
   "outputs": [],
   "source": [
    "plot_training(model._training_curves[0][\"elbo\"])"
   ]
  },
  {
   "cell_type": "code",
   "execution_count": null,
   "id": "pretty-robinson",
   "metadata": {},
   "outputs": [],
   "source": [
    "for name, param in model.named_parameters():\n",
    "    print(name, param)"
   ]
  },
  {
   "cell_type": "code",
   "execution_count": null,
   "id": "harmful-midnight",
   "metadata": {},
   "outputs": [],
   "source": [
    "model.nat_params"
   ]
  },
  {
   "cell_type": "code",
   "execution_count": null,
   "id": "latter-neighborhood",
   "metadata": {},
   "outputs": [],
   "source": []
  },
  {
   "cell_type": "code",
   "execution_count": null,
   "id": "grand-elephant",
   "metadata": {},
   "outputs": [],
   "source": []
  }
 ],
 "metadata": {
  "kernelspec": {
   "display_name": "Python 3",
   "language": "python",
   "name": "python3"
  },
  "language_info": {
   "codemirror_mode": {
    "name": "ipython",
    "version": 3
   },
   "file_extension": ".py",
   "mimetype": "text/x-python",
   "name": "python",
   "nbconvert_exporter": "python",
   "pygments_lexer": "ipython3",
   "version": "3.7.3"
  }
 },
 "nbformat": 4,
 "nbformat_minor": 5
}
