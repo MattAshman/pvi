{
 "cells": [
  {
   "cell_type": "code",
   "execution_count": 1,
   "id": "listed-treasury",
   "metadata": {},
   "outputs": [],
   "source": [
    "import sys\n",
    "import os\n",
    "\n",
    "module_path = os.path.abspath(os.path.join(\"../..\"))\n",
    "if module_path not in sys.path:\n",
    "    sys.path.append(module_path)\n",
    "\n",
    "from pvi.distributions.base import ExponentialFamilyDistribution\n",
    "from pvi.distributions.exponential_family_distributions import *\n",
    "from pvi.distributions.exponential_family_factors import *\n",
    "\n",
    "import torch"
   ]
  },
  {
   "cell_type": "markdown",
   "id": "duplicate-qualification",
   "metadata": {},
   "source": [
    "# Test t-factors\n",
    "\n",
    "## Mean-field Gaussian Factor"
   ]
  },
  {
   "cell_type": "code",
   "execution_count": 2,
   "id": "incorrect-excuse",
   "metadata": {},
   "outputs": [],
   "source": [
    "N = 4\n",
    "D = 2\n",
    "\n",
    "mean = torch.zeros(size=(D,))\n",
    "prec = torch.ones(size=(D,))\n",
    "natural_parameters = {\"np1\" : mean / prec,\n",
    "                      \"np2\" : -0.5 * prec}\n",
    "\n",
    "thetas = torch.ones(size=(N, D))\n",
    "\n",
    "mean_field_gaussian = MeanFieldGaussianFactor(natural_parameters)"
   ]
  },
  {
   "cell_type": "code",
   "execution_count": 3,
   "id": "advisory-insulin",
   "metadata": {},
   "outputs": [
    {
     "data": {
      "text/plain": [
       "tensor([-1., -1., -1., -1.])"
      ]
     },
     "execution_count": 3,
     "metadata": {},
     "output_type": "execute_result"
    }
   ],
   "source": [
    "mean_field_gaussian(thetas)"
   ]
  },
  {
   "cell_type": "code",
   "execution_count": 4,
   "id": "mediterranean-species",
   "metadata": {},
   "outputs": [
    {
     "name": "stdout",
     "output_type": "stream",
     "text": [
      "tensor([-1.1921e-07, -1.1921e-07])\n"
     ]
    },
    {
     "data": {
      "text/plain": [
       "{'np1': tensor([0., 0.]), 'np2': tensor([1.1921e-07, 1.1921e-07])}"
      ]
     },
     "execution_count": 4,
     "metadata": {},
     "output_type": "execute_result"
    }
   ],
   "source": [
    "dist1 = torch.distributions.Normal(loc=mean, scale=prec ** -0.5)\n",
    "dist2 = torch.distributions.Normal(loc=mean, scale=(2. * prec) ** -0.5)\n",
    "print(0.5 * (dist1.scale ** -2 - dist2.scale ** -2 + prec))\n",
    "mean_field_gaussian.compute_refined_factor(dist1, dist2).natural_parameters"
   ]
  },
  {
   "cell_type": "markdown",
   "id": "large-working",
   "metadata": {},
   "source": [
    "## Multivariate Gaussian factor"
   ]
  },
  {
   "cell_type": "code",
   "execution_count": 5,
   "id": "apart-softball",
   "metadata": {},
   "outputs": [],
   "source": [
    "N = 4\n",
    "D = 2\n",
    "\n",
    "log_coefficient = 0.\n",
    "mean = torch.zeros(size=(D,))\n",
    "prec = torch.eye(D)\n",
    "natural_parameters = {\"np1\" : torch.solve(mean[:, None], prec).solution[:, 0],\n",
    "                      \"np2\" : -0.5 * prec}\n",
    "\n",
    "thetas = torch.ones(size=(N, D))\n",
    "\n",
    "multivariate_gaussian = MultivariateGaussianFactor(natural_parameters=natural_parameters)"
   ]
  },
  {
   "cell_type": "code",
   "execution_count": 6,
   "id": "musical-dynamics",
   "metadata": {},
   "outputs": [
    {
     "data": {
      "text/plain": [
       "tensor([-1., -1., -1., -1.])"
      ]
     },
     "execution_count": 6,
     "metadata": {},
     "output_type": "execute_result"
    }
   ],
   "source": [
    "multivariate_gaussian(thetas)"
   ]
  },
  {
   "cell_type": "code",
   "execution_count": 7,
   "id": "hungry-strategy",
   "metadata": {},
   "outputs": [
    {
     "name": "stdout",
     "output_type": "stream",
     "text": [
      "{'sp1': tensor([0., 0.]), 'sp2': tensor([[1., -0.],\n",
      "        [0., 1.]])}\n"
     ]
    },
    {
     "data": {
      "text/plain": [
       "tensor([[1., 0.],\n",
       "        [0., 1.]])"
      ]
     },
     "execution_count": 7,
     "metadata": {},
     "output_type": "execute_result"
    }
   ],
   "source": [
    "N = 4\n",
    "D = 2\n",
    "\n",
    "mean = torch.zeros(size=(D,))\n",
    "L = torch.tensor([[1., 0.],\n",
    "                  [0., 1.]])\n",
    "prec = torch.mm(L, L.T)\n",
    "natural_parameters = {\"np1\" : torch.solve(mean[:, None], prec).solution[:, 0],\n",
    "                      \"np2\" : -0.5 * prec}\n",
    "\n",
    "thetas = torch.ones(size=(N, D))\n",
    "\n",
    "multivariate_gaussian = MultivariateGaussianFactor(natural_parameters=natural_parameters)\n",
    "\n",
    "multivariate_gaussian.distribution_from_np(multivariate_gaussian.natural_parameters).scale_tril"
   ]
  },
  {
   "cell_type": "code",
   "execution_count": 8,
   "id": "medieval-aberdeen",
   "metadata": {},
   "outputs": [
    {
     "name": "stdout",
     "output_type": "stream",
     "text": [
      "tensor([[-0., -0.],\n",
      "        [-0., -0.]])\n"
     ]
    },
    {
     "data": {
      "text/plain": [
       "{'np1': tensor([0., 0.]),\n",
       " 'np2': tensor([[0., 0.],\n",
       "         [0., 0.]])}"
      ]
     },
     "execution_count": 8,
     "metadata": {},
     "output_type": "execute_result"
    }
   ],
   "source": [
    "dist1 = torch.distributions.MultivariateNormal(loc=mean, covariance_matrix=torch.inverse(prec))\n",
    "dist2 = torch.distributions.MultivariateNormal(loc=mean, covariance_matrix=torch.inverse(2 * prec))\n",
    "print(-0.5 * (torch.inverse(dist1.covariance_matrix) - torch.inverse(dist2.covariance_matrix) + prec))\n",
    "multivariate_gaussian.compute_refined_factor(dist1, dist2).natural_parameters"
   ]
  },
  {
   "cell_type": "markdown",
   "id": "capital-recipe",
   "metadata": {},
   "source": [
    "# Test distribution base classes\n",
    "\n",
    "## Mean Field Gaussian"
   ]
  },
  {
   "cell_type": "code",
   "execution_count": 9,
   "id": "complicated-program",
   "metadata": {},
   "outputs": [
    {
     "data": {
      "text/plain": [
       "tensor([ 0.4902, -1.0295])"
      ]
     },
     "execution_count": 9,
     "metadata": {},
     "output_type": "execute_result"
    }
   ],
   "source": [
    "N = 4\n",
    "D = 2\n",
    "\n",
    "mean = torch.zeros(size=(D,))\n",
    "scale = torch.ones(size=(D,))\n",
    "\n",
    "sp = {\n",
    "    \"sp1\" : mean,\n",
    "    \"sp2\" : scale\n",
    "    \n",
    "}\n",
    "\n",
    "mfgd = MeanFieldGaussianDistribution(std_params=sp,\n",
    "                                     nat_params=None,\n",
    "                                     is_trainable=True)\n",
    "\n",
    "mfgd.rsample().sum().backward()\n",
    "mfgd._unc_params[\"up2\"].grad"
   ]
  },
  {
   "cell_type": "markdown",
   "id": "otherwise-blair",
   "metadata": {},
   "source": [
    "# Multivariate Gaussian"
   ]
  },
  {
   "cell_type": "code",
   "execution_count": 10,
   "id": "sustained-ethiopia",
   "metadata": {},
   "outputs": [],
   "source": [
    "N = 4\n",
    "D = 2\n",
    "\n",
    "mean = torch.zeros(size=(D,))\n",
    "cov = torch.eye(D)\n",
    "\n",
    "sp = {\n",
    "    \"sp1\" : mean,\n",
    "    \"sp2\" : cov\n",
    "    \n",
    "}\n",
    "\n",
    "mvgd = MultivariateGaussianDistribution(std_params=sp,\n",
    "                                        nat_params=None,\n",
    "                                        is_trainable=True)\n",
    "\n",
    "mvgd.rsample().sum().backward()"
   ]
  },
  {
   "cell_type": "code",
   "execution_count": 11,
   "id": "crucial-creativity",
   "metadata": {},
   "outputs": [
    {
     "data": {
      "text/plain": [
       "tensor(0.)"
      ]
     },
     "execution_count": 11,
     "metadata": {},
     "output_type": "execute_result"
    }
   ],
   "source": [
    "mean = torch.zeros(size=(D,))\n",
    "cov = torch.eye(D)\n",
    "\n",
    "d1 = torch.distributions.MultivariateNormal(loc=mean, covariance_matrix=cov)\n",
    "d2 = torch.distributions.MultivariateNormal(loc=mean, covariance_matrix=cov)\n",
    "\n",
    "torch.distributions.kl_divergence(d1, d2)"
   ]
  },
  {
   "cell_type": "code",
   "execution_count": 12,
   "id": "differential-champagne",
   "metadata": {},
   "outputs": [
    {
     "data": {
      "text/plain": [
       "(tensor([5.0000e-01, 1.0000e-06]),)"
      ]
     },
     "execution_count": 12,
     "metadata": {},
     "output_type": "execute_result"
    }
   ],
   "source": [
    "torch.distributions.Dirichlet(torch.tensor([0.5, 1e-6]))._natural_params"
   ]
  },
  {
   "cell_type": "markdown",
   "id": "african-parts",
   "metadata": {},
   "source": [
    "## Dirichlet distribution"
   ]
  },
  {
   "cell_type": "code",
   "execution_count": 13,
   "id": "incorrect-equilibrium",
   "metadata": {},
   "outputs": [
    {
     "data": {
      "text/plain": [
       "tensor(0.)"
      ]
     },
     "execution_count": 13,
     "metadata": {},
     "output_type": "execute_result"
    }
   ],
   "source": [
    "D = 4\n",
    "\n",
    "conc = torch.zeros(size=(D,)).uniform_()\n",
    "\n",
    "sp = {\"sp1\" : conc}\n",
    "\n",
    "dird = DirichletDistribution(std_params=sp,\n",
    "                             nat_params=None,\n",
    "                             is_trainable=False)\n",
    "\n",
    "dird.kl_divergence(dird)"
   ]
  },
  {
   "cell_type": "markdown",
   "id": "pressed-inside",
   "metadata": {},
   "source": [
    "# Multinomial distribution"
   ]
  },
  {
   "cell_type": "code",
   "execution_count": 14,
   "id": "caring-quantity",
   "metadata": {},
   "outputs": [
    {
     "data": {
      "text/plain": [
       "tensor([0., 0., 0., 2., 0., 0., 0., 1., 1., 0.])"
      ]
     },
     "execution_count": 14,
     "metadata": {},
     "output_type": "execute_result"
    }
   ],
   "source": [
    "D = 10\n",
    "\n",
    "p = torch.zeros(size=(D,)).uniform_()\n",
    "p = p / p.sum()\n",
    "\n",
    "sp = {\n",
    "    \"sp1\" : N,\n",
    "    \"sp2\" : p\n",
    "}\n",
    "\n",
    "muld = MultinomialDistribution(std_params=sp,\n",
    "                               nat_params=None,\n",
    "                               is_trainable=False)\n",
    "\n",
    "muld.sample()"
   ]
  }
 ],
 "metadata": {
  "kernelspec": {
   "display_name": "venv-pvi",
   "language": "python",
   "name": "venv-pvi"
  },
  "language_info": {
   "codemirror_mode": {
    "name": "ipython",
    "version": 3
   },
   "file_extension": ".py",
   "mimetype": "text/x-python",
   "name": "python",
   "nbconvert_exporter": "python",
   "pygments_lexer": "ipython3",
   "version": "3.7.3"
  }
 },
 "nbformat": 4,
 "nbformat_minor": 5
}
