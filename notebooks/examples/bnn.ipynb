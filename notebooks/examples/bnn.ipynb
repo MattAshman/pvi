{
 "cells": [
  {
   "cell_type": "code",
   "execution_count": 1,
   "id": "pharmaceutical-symposium",
   "metadata": {},
   "outputs": [],
   "source": [
    "import os\n",
    "import sys\n",
    "\n",
    "module_path = os.path.abspath(os.path.join(\"../..\"))\n",
    "sys.path.append(module_path)\n",
    "\n",
    "import torch\n",
    "import numpy as np\n",
    "import matplotlib.pyplot as plt\n",
    "from sklearn.model_selection import KFold\n",
    "\n",
    "from pvi.models.bnn import TwoLayerClassificationBNN\n",
    "from pvi.clients.synchronous_client import SynchronousClient\n",
    "from pvi.servers.sequential_server import SequentialServer\n",
    "\n",
    "from pvi.distributions.exponential_family_distributions import MeanFieldGaussianDistribution\n",
    "from pvi.distributions.exponential_family_factors import MeanFieldGaussianFactor"
   ]
  },
  {
   "cell_type": "code",
   "execution_count": 2,
   "id": "first-excitement",
   "metadata": {},
   "outputs": [],
   "source": [
    "# ! python ../../data/preprocess_data.py --dir=./"
   ]
  },
  {
   "cell_type": "code",
   "execution_count": 3,
   "id": "forty-exclusive",
   "metadata": {},
   "outputs": [],
   "source": [
    "hyperparameters = {'D' : 100}\n",
    "\n",
    "bnn = TwoLayerClassificationBNN(hyperparameters=hyperparameters)"
   ]
  },
  {
   "cell_type": "code",
   "execution_count": 4,
   "id": "terminal-architecture",
   "metadata": {},
   "outputs": [
    {
     "data": {
      "text/plain": [
       "{'D': 100,\n",
       " 'optimiser_class': torch.optim.adam.Adam,\n",
       " 'optimiser_params': {'lr': 0.001},\n",
       " 'reset_optimiser': True,\n",
       " 'epochs': 100,\n",
       " 'batch_size': 1000,\n",
       " 'num_elbo_samples': 10,\n",
       " 'num_predictive_samples': 10}"
      ]
     },
     "execution_count": 4,
     "metadata": {},
     "output_type": "execute_result"
    }
   ],
   "source": [
    "bnn.hyperparameters"
   ]
  },
  {
   "cell_type": "code",
   "execution_count": 5,
   "id": "painful-module",
   "metadata": {},
   "outputs": [
    {
     "ename": "KeyError",
     "evalue": "'latent_dim'",
     "output_type": "error",
     "traceback": [
      "\u001b[0;31m---------------------------------------------------------------------------\u001b[0m",
      "\u001b[0;31mKeyError\u001b[0m                                  Traceback (most recent call last)",
      "\u001b[0;32m<ipython-input-5-c0d5c52de620>\u001b[0m in \u001b[0;36m<module>\u001b[0;34m\u001b[0m\n\u001b[0;32m----> 1\u001b[0;31m \u001b[0mbnn\u001b[0m\u001b[0;34m.\u001b[0m\u001b[0mshapes\u001b[0m\u001b[0;34m(\u001b[0m\u001b[0;34m)\u001b[0m\u001b[0;34m\u001b[0m\u001b[0;34m\u001b[0m\u001b[0m\n\u001b[0m",
      "\u001b[0;32m~/repos/pvi/pvi/pvi/models/bnn.py\u001b[0m in \u001b[0;36mshapes\u001b[0;34m(self)\u001b[0m\n\u001b[1;32m    159\u001b[0m \u001b[0;34m\u001b[0m\u001b[0m\n\u001b[1;32m    160\u001b[0m         \u001b[0minput_dim\u001b[0m \u001b[0;34m=\u001b[0m \u001b[0mself\u001b[0m\u001b[0;34m.\u001b[0m\u001b[0mhyperparameters\u001b[0m\u001b[0;34m[\u001b[0m\u001b[0;34m'D'\u001b[0m\u001b[0;34m]\u001b[0m\u001b[0;34m\u001b[0m\u001b[0;34m\u001b[0m\u001b[0m\n\u001b[0;32m--> 161\u001b[0;31m         \u001b[0mlatent_dim\u001b[0m \u001b[0;34m=\u001b[0m \u001b[0mself\u001b[0m\u001b[0;34m.\u001b[0m\u001b[0mhyperparameters\u001b[0m\u001b[0;34m[\u001b[0m\u001b[0;34m'latent_dim'\u001b[0m\u001b[0;34m]\u001b[0m\u001b[0;34m\u001b[0m\u001b[0;34m\u001b[0m\u001b[0m\n\u001b[0m\u001b[1;32m    162\u001b[0m         \u001b[0moutput_dim\u001b[0m \u001b[0;34m=\u001b[0m \u001b[0mself\u001b[0m\u001b[0;34m.\u001b[0m\u001b[0mhyperparameters\u001b[0m\u001b[0;34m[\u001b[0m\u001b[0;34m'latent_dim'\u001b[0m\u001b[0;34m]\u001b[0m\u001b[0;34m\u001b[0m\u001b[0;34m\u001b[0m\u001b[0m\n\u001b[1;32m    163\u001b[0m \u001b[0;34m\u001b[0m\u001b[0m\n",
      "\u001b[0;31mKeyError\u001b[0m: 'latent_dim'"
     ]
    }
   ],
   "source": [
    "bnn.shapes()"
   ]
  },
  {
   "cell_type": "code",
   "execution_count": null,
   "id": "unlike-germany",
   "metadata": {},
   "outputs": [],
   "source": [
    "dir(bnn)"
   ]
  },
  {
   "cell_type": "code",
   "execution_count": null,
   "id": "roman-algeria",
   "metadata": {},
   "outputs": [],
   "source": []
  }
 ],
 "metadata": {
  "kernelspec": {
   "display_name": "venv-pvi",
   "language": "python",
   "name": "venv-pvi"
  },
  "language_info": {
   "codemirror_mode": {
    "name": "ipython",
    "version": 3
   },
   "file_extension": ".py",
   "mimetype": "text/x-python",
   "name": "python",
   "nbconvert_exporter": "python",
   "pygments_lexer": "ipython3",
   "version": "3.7.3"
  }
 },
 "nbformat": 4,
 "nbformat_minor": 5
}
