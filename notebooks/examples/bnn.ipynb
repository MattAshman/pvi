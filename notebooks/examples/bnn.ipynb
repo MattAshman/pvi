{
 "cells": [
  {
   "cell_type": "code",
   "execution_count": 1,
   "id": "developed-barcelona",
   "metadata": {},
   "outputs": [
    {
     "ename": "NameError",
     "evalue": "name 'abstractproperty' is not defined",
     "output_type": "error",
     "traceback": [
      "\u001b[0;31m---------------------------------------------------------------------------\u001b[0m",
      "\u001b[0;31mNameError\u001b[0m                                 Traceback (most recent call last)",
      "\u001b[0;32m<ipython-input-1-639e3efd261a>\u001b[0m in \u001b[0;36m<module>\u001b[0;34m\u001b[0m\n\u001b[1;32m     10\u001b[0m \u001b[0;32mfrom\u001b[0m \u001b[0msklearn\u001b[0m\u001b[0;34m.\u001b[0m\u001b[0mmodel_selection\u001b[0m \u001b[0;32mimport\u001b[0m \u001b[0mKFold\u001b[0m\u001b[0;34m\u001b[0m\u001b[0;34m\u001b[0m\u001b[0m\n\u001b[1;32m     11\u001b[0m \u001b[0;34m\u001b[0m\u001b[0m\n\u001b[0;32m---> 12\u001b[0;31m \u001b[0;32mfrom\u001b[0m \u001b[0mpvi\u001b[0m\u001b[0;34m.\u001b[0m\u001b[0mmodels\u001b[0m\u001b[0;34m.\u001b[0m\u001b[0mbnn\u001b[0m \u001b[0;32mimport\u001b[0m \u001b[0mTwoLayerClassificationBNN\u001b[0m\u001b[0;34m\u001b[0m\u001b[0;34m\u001b[0m\u001b[0m\n\u001b[0m\u001b[1;32m     13\u001b[0m \u001b[0;32mfrom\u001b[0m \u001b[0mpvi\u001b[0m\u001b[0;34m.\u001b[0m\u001b[0mclients\u001b[0m\u001b[0;34m.\u001b[0m\u001b[0msynchronous_client\u001b[0m \u001b[0;32mimport\u001b[0m \u001b[0mSynchronousClient\u001b[0m\u001b[0;34m\u001b[0m\u001b[0;34m\u001b[0m\u001b[0m\n\u001b[1;32m     14\u001b[0m \u001b[0;32mfrom\u001b[0m \u001b[0mpvi\u001b[0m\u001b[0;34m.\u001b[0m\u001b[0mservers\u001b[0m\u001b[0;34m.\u001b[0m\u001b[0msequential_server\u001b[0m \u001b[0;32mimport\u001b[0m \u001b[0mSequentialServer\u001b[0m\u001b[0;34m\u001b[0m\u001b[0;34m\u001b[0m\u001b[0m\n",
      "\u001b[0;32m~/repos/pvi/pvi/pvi/models/bnn.py\u001b[0m in \u001b[0;36m<module>\u001b[0;34m\u001b[0m\n\u001b[1;32m     12\u001b[0m \u001b[0;34m\u001b[0m\u001b[0m\n\u001b[1;32m     13\u001b[0m \u001b[0;34m\u001b[0m\u001b[0m\n\u001b[0;32m---> 14\u001b[0;31m \u001b[0;32mclass\u001b[0m \u001b[0mFullyConnectedBNN\u001b[0m\u001b[0;34m(\u001b[0m\u001b[0mModel\u001b[0m\u001b[0;34m,\u001b[0m \u001b[0mnn\u001b[0m\u001b[0;34m.\u001b[0m\u001b[0mModule\u001b[0m\u001b[0;34m,\u001b[0m \u001b[0mABC\u001b[0m\u001b[0;34m)\u001b[0m\u001b[0;34m:\u001b[0m\u001b[0;34m\u001b[0m\u001b[0;34m\u001b[0m\u001b[0m\n\u001b[0m\u001b[1;32m     15\u001b[0m \u001b[0;34m\u001b[0m\u001b[0m\n\u001b[1;32m     16\u001b[0m     \u001b[0mconjugate_family\u001b[0m \u001b[0;34m=\u001b[0m \u001b[0;32mNone\u001b[0m\u001b[0;34m\u001b[0m\u001b[0;34m\u001b[0m\u001b[0m\n",
      "\u001b[0;32m~/repos/pvi/pvi/pvi/models/bnn.py\u001b[0m in \u001b[0;36mFullyConnectedBNN\u001b[0;34m()\u001b[0m\n\u001b[1;32m     23\u001b[0m \u001b[0;34m\u001b[0m\u001b[0m\n\u001b[1;32m     24\u001b[0m \u001b[0;34m\u001b[0m\u001b[0m\n\u001b[0;32m---> 25\u001b[0;31m     \u001b[0;34m@\u001b[0m\u001b[0mabstractproperty\u001b[0m\u001b[0;34m\u001b[0m\u001b[0;34m\u001b[0m\u001b[0m\n\u001b[0m\u001b[1;32m     26\u001b[0m     \u001b[0;32mdef\u001b[0m \u001b[0mshapes\u001b[0m\u001b[0;34m(\u001b[0m\u001b[0mself\u001b[0m\u001b[0;34m)\u001b[0m\u001b[0;34m:\u001b[0m\u001b[0;34m\u001b[0m\u001b[0;34m\u001b[0m\u001b[0m\n\u001b[1;32m     27\u001b[0m         \u001b[0;32mpass\u001b[0m\u001b[0;34m\u001b[0m\u001b[0;34m\u001b[0m\u001b[0m\n",
      "\u001b[0;31mNameError\u001b[0m: name 'abstractproperty' is not defined"
     ]
    }
   ],
   "source": [
    "import os\n",
    "import sys\n",
    "\n",
    "module_path = os.path.abspath(os.path.join(\"../..\"))\n",
    "sys.path.append(module_path)\n",
    "\n",
    "import torch\n",
    "import numpy as np\n",
    "import matplotlib.pyplot as plt\n",
    "from sklearn.model_selection import KFold\n",
    "\n",
    "from pvi.models.bnn import TwoLayerClassificationBNN\n",
    "from pvi.clients.synchronous_client import SynchronousClient\n",
    "from pvi.servers.sequential_server import SequentialServer\n",
    "\n",
    "from pvi.distributions.exponential_family_distributions import MeanFieldGaussianDistribution\n",
    "from pvi.distributions.exponential_family_factors import MeanFieldGaussianFactor"
   ]
  },
  {
   "cell_type": "code",
   "execution_count": 2,
   "id": "timely-penetration",
   "metadata": {},
   "outputs": [
    {
     "name": "stdout",
     "output_type": "stream",
     "text": [
      "Downloading abalone dataset\n",
      "0/4177 rows had missing data\n",
      "\n",
      "Downloading adult dataset\n",
      "0/32561 rows had missing data\n",
      "\n",
      "0/16281 rows had missing data\n",
      "\n",
      "Downloading mushroom dataset\n",
      "2480/8124 rows had missing data\n",
      "\n",
      "Downloading credit dataset\n",
      "37/690 rows had missing data\n",
      "\n",
      "Downloading bank dataset\n",
      "0/45211 rows had missing data\n",
      "\n",
      "Downloading superconductor dataset\n",
      "0/21263 rows had missing data\n",
      "\n",
      "Downloading protein dataset\n",
      "0/45730 rows had missing data\n",
      "\n",
      "Downloading power dataset\n",
      "0/9567 rows had missing data\n",
      "\n",
      "Processing abalone dataset\n",
      "Input  shape: (4177, 10)\n",
      "Output shape: (4177, 1)\n",
      "Processing adult dataset\n",
      "Input  shape: (48842, 108)\n",
      "Output shape: (48842, 1)\n",
      "Processing mushroom dataset\n",
      "Input  shape: (8124, 111)\n",
      "Output shape: (8124, 1)\n",
      "Processing credit dataset\n",
      "Input  shape: (653, 46)\n",
      "Output shape: (653, 1)\n",
      "Processing bank dataset\n",
      "Input  shape: (45211, 51)\n",
      "Output shape: (45211, 1)\n",
      "Processing superconductor dataset\n",
      "Input  shape: (21263, 81)\n",
      "Output shape: (21263, 1)\n",
      "Processing protein dataset\n",
      "Input  shape: (45730, 9)\n",
      "Output shape: (45730, 1)\n",
      "Processing power dataset\n",
      "Input  shape: (9567, 4)\n",
      "Output shape: (9567, 1)\n"
     ]
    }
   ],
   "source": [
    "# ! python ../../data/preprocess_data.py --dir=./"
   ]
  },
  {
   "cell_type": "code",
   "execution_count": null,
   "id": "former-minority",
   "metadata": {},
   "outputs": [],
   "source": []
  }
 ],
 "metadata": {
  "kernelspec": {
   "display_name": "venv-pvi",
   "language": "python",
   "name": "venv-pvi"
  },
  "language_info": {
   "codemirror_mode": {
    "name": "ipython",
    "version": 3
   },
   "file_extension": ".py",
   "mimetype": "text/x-python",
   "name": "python",
   "nbconvert_exporter": "python",
   "pygments_lexer": "ipython3",
   "version": "3.7.3"
  }
 },
 "nbformat": 4,
 "nbformat_minor": 5
}
