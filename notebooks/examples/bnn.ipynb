{
 "cells": [
  {
   "cell_type": "code",
   "execution_count": 1,
   "id": "furnished-quality",
   "metadata": {},
   "outputs": [],
   "source": [
    "import os\n",
    "import sys\n",
    "\n",
    "module_path = os.path.abspath(os.path.join(\"../..\"))\n",
    "sys.path.append(module_path)\n",
    "\n",
    "import torch\n",
    "import numpy as np\n",
    "import matplotlib.pyplot as plt\n",
    "from sklearn.model_selection import KFold\n",
    "\n",
    "from pvi.models.bnn import TwoLayerClassificationBNN\n",
    "from pvi.clients.synchronous_client import SynchronousClient\n",
    "from pvi.servers.sequential_server import SequentialServer\n",
    "\n",
    "from pvi.distributions.exponential_family_distributions import MeanFieldGaussianDistribution\n",
    "from pvi.distributions.exponential_family_factors import MeanFieldGaussianFactor"
   ]
  },
  {
   "cell_type": "code",
   "execution_count": 2,
   "id": "united-yugoslavia",
   "metadata": {},
   "outputs": [],
   "source": [
    "# ! python ../../data/preprocess_data.py --dir=./"
   ]
  },
  {
   "cell_type": "code",
   "execution_count": 3,
   "id": "silver-diploma",
   "metadata": {},
   "outputs": [],
   "source": [
    "num_samples = 3\n",
    "input_dim = 108"
   ]
  },
  {
   "cell_type": "code",
   "execution_count": 4,
   "id": "advisory-solution",
   "metadata": {},
   "outputs": [],
   "source": [
    "hyperparameters = {'D'          : input_dim,\n",
    "                   'latent_dim' : 128,\n",
    "                   'output_dim' : 2}\n",
    "\n",
    "bnn = TwoLayerClassificationBNN(hyperparameters=hyperparameters)"
   ]
  },
  {
   "cell_type": "code",
   "execution_count": 11,
   "id": "elect-holmes",
   "metadata": {},
   "outputs": [],
   "source": [
    "num_data = 1000\n",
    "num_params = sum(bnn.sizes)\n",
    "\n",
    "x = torch.zeros(size=(num_data, input_dim)).normal_()\n",
    "theta = torch.ones(size=(num_samples, num_params)).normal_() / 1e1"
   ]
  },
  {
   "cell_type": "code",
   "execution_count": 12,
   "id": "harmful-collective",
   "metadata": {},
   "outputs": [
    {
     "name": "stdout",
     "output_type": "stream",
     "text": [
      "torch.Size([1, 1000, 108]) torch.Size([3, 108, 128])\n",
      "torch.Size([3, 1000, 128]) torch.Size([3, 128, 128])\n",
      "torch.Size([3, 1000, 128]) torch.Size([3, 128, 4])\n",
      "tensor([[[0.3847, 1.3996],\n",
      "         [0.5102, 1.0867],\n",
      "         [0.3350, 0.5865],\n",
      "         ...,\n",
      "         [0.4233, 3.4158],\n",
      "         [0.9076, 0.8105],\n",
      "         [0.4948, 0.5259]],\n",
      "\n",
      "        [[0.9142, 0.7929],\n",
      "         [0.3798, 0.2975],\n",
      "         [1.3227, 0.2334],\n",
      "         ...,\n",
      "         [1.7730, 0.2825],\n",
      "         [2.4545, 0.3310],\n",
      "         [5.3014, 0.4638]],\n",
      "\n",
      "        [[2.4065, 0.8015],\n",
      "         [1.1112, 0.6330],\n",
      "         [0.6976, 1.1636],\n",
      "         ...,\n",
      "         [0.8378, 0.3044],\n",
      "         [0.3639, 2.6805],\n",
      "         [1.0551, 0.6348]]])\n"
     ]
    },
    {
     "data": {
      "text/plain": [
       "tensor([[[0.3847, 1.3996],\n",
       "         [0.5102, 1.0867],\n",
       "         [0.3350, 0.5865],\n",
       "         ...,\n",
       "         [0.4233, 3.4158],\n",
       "         [0.9076, 0.8105],\n",
       "         [0.4948, 0.5259]],\n",
       "\n",
       "        [[0.9142, 0.7929],\n",
       "         [0.3798, 0.2975],\n",
       "         [1.3227, 0.2334],\n",
       "         ...,\n",
       "         [1.7730, 0.2825],\n",
       "         [2.4545, 0.3310],\n",
       "         [5.3014, 0.4638]],\n",
       "\n",
       "        [[2.4065, 0.8015],\n",
       "         [1.1112, 0.6330],\n",
       "         [0.6976, 1.1636],\n",
       "         ...,\n",
       "         [0.8378, 0.3044],\n",
       "         [0.3639, 2.6805],\n",
       "         [1.0551, 0.6348]]])"
      ]
     },
     "execution_count": 12,
     "metadata": {},
     "output_type": "execute_result"
    }
   ],
   "source": [
    "bnn.likelihood_forward(x, theta).scale"
   ]
  },
  {
   "cell_type": "code",
   "execution_count": null,
   "id": "heard-depth",
   "metadata": {},
   "outputs": [],
   "source": []
  }
 ],
 "metadata": {
  "kernelspec": {
   "display_name": "venv-pvi",
   "language": "python",
   "name": "venv-pvi"
  },
  "language_info": {
   "codemirror_mode": {
    "name": "ipython",
    "version": 3
   },
   "file_extension": ".py",
   "mimetype": "text/x-python",
   "name": "python",
   "nbconvert_exporter": "python",
   "pygments_lexer": "ipython3",
   "version": "3.7.3"
  }
 },
 "nbformat": 4,
 "nbformat_minor": 5
}
