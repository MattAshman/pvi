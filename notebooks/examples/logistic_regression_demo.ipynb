{
 "cells": [
  {
   "cell_type": "code",
   "execution_count": null,
   "id": "threaded-barrier",
   "metadata": {},
   "outputs": [],
   "source": [
    "%load_ext autoreload\n",
    "%autoreload 2\n",
    "\n",
    "\n",
    "import os\n",
    "import sys\n",
    "import logging\n",
    "\n",
    "module_path = os.path.abspath(os.path.join(\"../..\"))\n",
    "if module_path not in sys.path:\n",
    "    sys.path.append(module_path)"
   ]
  },
  {
   "cell_type": "code",
   "execution_count": null,
   "id": "endangered-cooperation",
   "metadata": {},
   "outputs": [],
   "source": [
    "from pvi.models.logistic_regression import LogisticRegressionModel\n",
    "from pvi.likelihoods.logistic_regression import LogisticRegressionLikelihood\n",
    "\n",
    "import torch\n",
    "import numpy as np\n",
    "import matplotlib.pyplot as plt\n",
    "\n",
    "from torch import nn\n",
    "\n",
    "%matplotlib inline\n",
    "torch.set_default_dtype(torch.float64)"
   ]
  },
  {
   "cell_type": "markdown",
   "id": "sensitive-guatemala",
   "metadata": {},
   "source": [
    "# Construct logistic regression model"
   ]
  },
  {
   "cell_type": "code",
   "execution_count": null,
   "id": "prompt-shark",
   "metadata": {},
   "outputs": [],
   "source": [
    "prior_params = {\n",
    "    \"np1\": nn.Parameter(torch.tensor([0.0, 0.0, 0.0]),\n",
    "                        requires_grad=True),\n",
    "    \"np2\": nn.Parameter(torch.tensor([-0.05, -0.05, -0.05]).diag_embed(),\n",
    "                        requires_grad=True)\n",
    "}\n",
    "\n",
    "# Initally local likelihood is zero - init at the prior!\n",
    "current_params = prior_params \n",
    "\n",
    "hyperparameters = {\n",
    "    \"D\": 2,\n",
    "    \"optimiser_params\": {\"lr\": 1e-4},\n",
    "    \"epochs\": 1000,\n",
    "    \"batch_size\": 10,\n",
    "    \"num_elbo_samples\": 100,\n",
    "    \"num_predictive_samples\": 10\n",
    "}\n",
    "\n",
    "model = LogisticRegressionModel(nat_params=prior_params, hyperparameters=hyperparameters)"
   ]
  },
  {
   "cell_type": "markdown",
   "id": "applied-employee",
   "metadata": {},
   "source": [
    "# Set up data"
   ]
  },
  {
   "cell_type": "code",
   "execution_count": null,
   "id": "breathing-consideration",
   "metadata": {},
   "outputs": [],
   "source": [
    "data_x = torch.tensor([[2, 2], [1, 1], [0, 1], [1, 0], [-0.5, 0.1], \n",
    "                       [-1, -1], [-2, -2], [0, -1], [-1, 0], [0.5, 0.1]])\n",
    "data_y = torch.tensor([1, 1, 1, 1, 1, 0, 0, 0, 0, 0], dtype=torch.float)"
   ]
  },
  {
   "cell_type": "code",
   "execution_count": null,
   "id": "charitable-pastor",
   "metadata": {},
   "outputs": [],
   "source": [
    "def plot_results(data_x, data_y, opt_params):\n",
    "    x_vals = data_x[:, 0]\n",
    "    y_vals = data_x[:, 1]\n",
    "    labels = data_y\n",
    "    plt.figure()\n",
    "    plt.grid(b=True)\n",
    "    plt.scatter(x_vals, y_vals, c = labels)\n",
    "\n",
    "    w_map = (-2 * opt_params[\"np2\"]).inverse().matmul(opt_params[\"np1\"]).detach()\n",
    "    plt.arrow(0, 0, w_map[0], w_map[1], head_width=0.1)\n",
    "    plt.plot([-2, 2], [(w_map[0]/w_map[1])*2, (w_map[0]/w_map[1])*-2])\n",
    "    plt.show()\n",
    "    \n",
    "def plot_training(training_array):\n",
    "    x_vals = np.arange(1, len(training_array)+1)\n",
    "    plt.figure()\n",
    "    plt.plot(x_vals, training_array)\n",
    "    plt.ylabel('ELBO Loss')\n",
    "    plt.xlabel('Step')\n",
    "    plt.show()\n",
    "     \n",
    "data = {\n",
    "    \"x\": data_x,\n",
    "    \"y\": data_y,\n",
    "}\n",
    "\n",
    "t = {\n",
    "    \"np1\": torch.tensor([0., 0., 0.]),\n",
    "    \"np2\": torch.tensor([0., 0., 0.]).diag_embed()\n",
    "}"
   ]
  },
  {
   "cell_type": "code",
   "execution_count": null,
   "id": "ambient-chile",
   "metadata": {},
   "outputs": [],
   "source": [
    "t_new = model.fit(data, t)"
   ]
  },
  {
   "cell_type": "code",
   "execution_count": null,
   "id": "organized-section",
   "metadata": {},
   "outputs": [],
   "source": [
    "opt_params = model.nat_params\n",
    "plot_results(data_x, data_y, opt_params)"
   ]
  },
  {
   "cell_type": "code",
   "execution_count": null,
   "id": "collect-invasion",
   "metadata": {},
   "outputs": [],
   "source": [
    "plot_training(model._training_curves[0][\"elbo\"])"
   ]
  },
  {
   "cell_type": "code",
   "execution_count": null,
   "id": "international-ladder",
   "metadata": {},
   "outputs": [],
   "source": []
  }
 ],
 "metadata": {
  "kernelspec": {
   "display_name": "Python 3",
   "language": "python",
   "name": "python3"
  },
  "language_info": {
   "codemirror_mode": {
    "name": "ipython",
    "version": 3
   },
   "file_extension": ".py",
   "mimetype": "text/x-python",
   "name": "python",
   "nbconvert_exporter": "python",
   "pygments_lexer": "ipython3",
   "version": "3.8.8"
  }
 },
 "nbformat": 4,
 "nbformat_minor": 5
}
