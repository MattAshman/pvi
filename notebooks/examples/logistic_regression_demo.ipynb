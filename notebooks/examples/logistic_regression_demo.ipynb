{
 "cells": [
  {
   "cell_type": "code",
   "execution_count": null,
   "id": "adjustable-motivation",
   "metadata": {},
   "outputs": [],
   "source": [
    "%load_ext autoreload\n",
    "%autoreload 2\n",
    "\n",
    "\n",
    "import os\n",
    "import sys\n",
    "import logging\n",
    "\n",
    "module_path = os.path.abspath(os.path.join(\"../..\"))\n",
    "if module_path not in sys.path:\n",
    "    sys.path.append(module_path)"
   ]
  },
  {
   "cell_type": "code",
   "execution_count": null,
   "id": "japanese-process",
   "metadata": {},
   "outputs": [],
   "source": [
    "from pvi.models.logistic_regression import LogisticRegressionModel\n",
    "from pvi.utils.gaussian import mvstandard2natural, mvnatural2standard\n",
    "\n",
    "import torch\n",
    "import numpy as np\n",
    "import matplotlib.pyplot as plt\n",
    "import tqdm.auto as tqdm\n",
    "\n",
    "from torch import nn\n",
    "\n",
    "%matplotlib inline\n",
    "torch.set_default_dtype(torch.float64)"
   ]
  },
  {
   "cell_type": "markdown",
   "id": "responsible-transcript",
   "metadata": {},
   "source": [
    "# Set up data and helper functions"
   ]
  },
  {
   "cell_type": "code",
   "execution_count": null,
   "id": "weighted-baker",
   "metadata": {},
   "outputs": [],
   "source": [
    "x = torch.tensor([[2, 2], [1, 1], [0, 1], [1, 0], [-0.5, 0.1], \n",
    "                  [-1, -1], [-2, -2], [0, -1], [-1, 0], [0.5, 0.1]])\n",
    "y = torch.tensor([1, 1, 1, 1, 1, 0, 0, 0, 0, 0], dtype=torch.float)"
   ]
  },
  {
   "cell_type": "code",
   "execution_count": null,
   "id": "offshore-allocation",
   "metadata": {},
   "outputs": [],
   "source": [
    "def plot_data(x, y):\n",
    "    x_vals = x[:, 0]\n",
    "    y_vals = x[:, 1]\n",
    "    labels = y\n",
    "    \n",
    "    plt.figure()\n",
    "    plt.grid(b=True)\n",
    "    plt.scatter(x_vals, y_vals, c=labels)\n",
    "    plt.show()\n",
    "\n",
    "def plot_results(x, y, model, q):\n",
    "    x_vals = x[:, 0]\n",
    "    y_vals = x[:, 1]\n",
    "    labels = y\n",
    "    \n",
    "    q_np1 = q[\"nat_params\"][\"np1\"]\n",
    "    q_np2 = q[\"nat_params\"][\"np2\"]\n",
    "    w_map = (-2 * q_np2).inverse().matmul(q_np1).detach()\n",
    "    \n",
    "    plt.figure()\n",
    "    plt.grid(b=True)\n",
    "    plt.scatter(x_vals, y_vals, c=labels)\n",
    "    plt.arrow(0, 0, w_map[0], w_map[1], head_width=0.1)\n",
    "    plt.plot([-2, 2], [(w_map[0]/w_map[1])*2, (w_map[0]/w_map[1])*-2])\n",
    "    plt.show()\n",
    "    \n",
    "def plot_training(training_array):\n",
    "    x_vals = np.arange(1, len(training_array)+1)\n",
    "    plt.figure()\n",
    "    plt.grid(b=True)\n",
    "    plt.plot(x_vals, training_array)\n",
    "    plt.ylabel('ELBO Loss')\n",
    "    plt.xlabel('Step')\n",
    "    plt.show()\n",
    "     \n",
    "data = {\n",
    "    \"x\": x,\n",
    "    \"y\": y,\n",
    "}"
   ]
  },
  {
   "cell_type": "code",
   "execution_count": null,
   "id": "standing-journey",
   "metadata": {},
   "outputs": [],
   "source": [
    "plot_data(x, y)"
   ]
  },
  {
   "cell_type": "markdown",
   "id": "durable-eating",
   "metadata": {},
   "source": [
    "# Construct logistic regression model"
   ]
  },
  {
   "cell_type": "code",
   "execution_count": null,
   "id": "chronic-access",
   "metadata": {},
   "outputs": [],
   "source": [
    "hyperparameters = {\n",
    "    \"D\": 2,\n",
    "    \"optimiser_params\": {\"lr\": 1e-2},\n",
    "    \"epochs\": 500,\n",
    "    \"batch_size\": 10,\n",
    "    \"num_elbo_samples\": 100,\n",
    "    \"num_predictive_samples\": 1\n",
    "}\n",
    "\n",
    "model = LogisticRegressionModel(hyperparameters=hyperparameters)\n",
    "\n",
    "q = {\n",
    "    \"nat_params\": {\n",
    "        \"np1\": torch.tensor([0.0, 0.0, 0.0]),\n",
    "        \"np2\": torch.tensor([-0.5, -0.5, -0.5]).diag_embed()\n",
    "    }\n",
    "}\n",
    "\n",
    "q_mu, q_cov = mvnatural2standard(q[\"nat_params\"][\"np1\"], q[\"nat_params\"][\"np2\"])\n",
    "q_dist = torch.distributions.MultivariateNormal(q_mu, covariance_matrix=q_cov)\n",
    "q[\"distribution\"] = q_dist"
   ]
  },
  {
   "cell_type": "markdown",
   "id": "prepared-karma",
   "metadata": {},
   "source": [
    "# Fit data"
   ]
  },
  {
   "cell_type": "code",
   "execution_count": null,
   "id": "recognized-oriental",
   "metadata": {},
   "outputs": [],
   "source": [
    "t = {\n",
    "    \"nat_params\": {\n",
    "        \"np1\": torch.tensor([0., 0., 0.]),\n",
    "        \"np2\": torch.tensor([0., 0., 0.]).diag_embed()\n",
    "    }\n",
    "}"
   ]
  },
  {
   "cell_type": "code",
   "execution_count": null,
   "id": "derived-authority",
   "metadata": {},
   "outputs": [],
   "source": [
    "def fit(model, data, q, t_i):\n",
    "    \n",
    "    # Parameters to be optimised: work with Cholesky factor and mean.\n",
    "    prec = -2. * q[\"nat_params\"][\"np2\"]\n",
    "    prec_chol = torch.cholesky(prec)\n",
    "    cov = torch.cholesky_inverse(prec_chol)\n",
    "    chol = torch.cholesky(cov)\n",
    "    mean = cov.matmul(q[\"nat_params\"][\"np1\"])\n",
    "    \n",
    "    q_params = {\n",
    "        \"scale_tril\": nn.Parameter(chol, requires_grad=True),\n",
    "        \"loc\": nn.Parameter(mean, requires_grad=True)\n",
    "    }\n",
    "    \n",
    "    \n",
    "    # Set up optimiser.\n",
    "    if model.hyperparameters[\"optimiser_class\"] is not None:\n",
    "        optimiser = model.hyperparameters[\"optimiser_class\"](\n",
    "            list(q_params.values()) + list(model.parameters()),\n",
    "            **model.hyperparameters[\"optimiser_params\"]\n",
    "        )\n",
    "    else:\n",
    "        optimiser = optim.Adam(\n",
    "            list(q_params.values()) + list(model.parameters()),\n",
    "            **model.hyperparameters[\"optimiser_params\"]\n",
    "        )\n",
    "        \n",
    "    # Local optimisation to find new parameters.\n",
    "    training_curves = {\n",
    "        \"elbo\": [],\n",
    "        \"ll\": [],\n",
    "        \"kl\": []\n",
    "    }\n",
    "    \n",
    "    # Compute current cavity distribution.\n",
    "    qcav = {\n",
    "        \"nat_params\": {\n",
    "            \"np1\": q[\"nat_params\"][\"np1\"] - t_i[\"nat_params\"][\"np1\"],\n",
    "            \"np2\": q[\"nat_params\"][\"np2\"] - t_i[\"nat_params\"][\"np2\"],\n",
    "        }\n",
    "    }\n",
    "    \n",
    "    qcav_mu, qcav_cov = mvnatural2standard(qcav[\"nat_params\"][\"np1\"], qcav[\"nat_params\"][\"np2\"])\n",
    "    qcav_dist = torch.distributions.MultivariateNormal(qcav_mu, qcav_cov)\n",
    "    qcav[\"distribution\"] = qcav_dist\n",
    "    \n",
    "    epoch_iter = tqdm.tqdm(range(model.hyperparameters[\"epochs\"]), desc=\"Epochs\")\n",
    "    for i in epoch_iter:\n",
    "        # Expected log-likelihood.\n",
    "        q_dist = torch.distributions.MultivariateNormal(**q_params)\n",
    "        thetas = q_dist.rsample((model.hyperparameters[\"num_elbo_samples\"],))\n",
    "        ll = model.likelihood_log_prob(data, thetas).mean(0).sum()\n",
    "        \n",
    "        # Compute the KL divergence between current approximate posterior and prior.\n",
    "        kl = torch.distributions.kl_divergence(q_dist, qcav[\"distribution\"])\n",
    "        \n",
    "        elbo = ll - kl\n",
    "        loss = -elbo\n",
    "        \n",
    "        # Backwards step.\n",
    "        loss.backward()\n",
    "        optimiser.step()\n",
    "        optimiser.zero_grad()\n",
    "        \n",
    "        training_curves[\"elbo\"].append(elbo.item())\n",
    "        training_curves[\"ll\"].append(ll.item())\n",
    "        training_curves[\"kl\"].append(kl.item())\n",
    "        \n",
    "    # Convert back to natural parameter form, and get local factor.\n",
    "    q_chol = q_params[\"scale_tril\"].detach()\n",
    "    q_mu = q_params[\"loc\"].detach()\n",
    "    q_cov = q_chol.matmul(q_chol.T)\n",
    "    q_np1, q_np2 = mvstandard2natural(q_mu, q_cov)\n",
    "    \n",
    "    q_new = {\n",
    "        \"nat_params\": {\n",
    "            \"np1\": q_np1,\n",
    "            \"np2\": q_np2,\n",
    "        }\n",
    "    }\n",
    "    \n",
    "    t_i_new = {\n",
    "        \"nat_params\": {\n",
    "            \"np1\": q_new[\"nat_params\"][\"np1\"] - qcav[\"nat_params\"][\"np1\"],\n",
    "            \"np2\": q_new[\"nat_params\"][\"np2\"] - qcav[\"nat_params\"][\"np2\"],\n",
    "        }\n",
    "    }\n",
    "        \n",
    "    return q_new, t_i_new, training_curves"
   ]
  },
  {
   "cell_type": "code",
   "execution_count": null,
   "id": "hearing-heavy",
   "metadata": {},
   "outputs": [],
   "source": [
    "q_new, t_new, training_curves = fit(model, data, q, t)"
   ]
  },
  {
   "cell_type": "code",
   "execution_count": null,
   "id": "meaningful-teach",
   "metadata": {},
   "outputs": [],
   "source": [
    "plot_training(training_curves[\"elbo\"])"
   ]
  },
  {
   "cell_type": "code",
   "execution_count": null,
   "id": "international-semester",
   "metadata": {},
   "outputs": [],
   "source": [
    "plot_training(training_curves[\"ll\"])"
   ]
  },
  {
   "cell_type": "code",
   "execution_count": null,
   "id": "careful-costs",
   "metadata": {},
   "outputs": [],
   "source": [
    "plot_training(training_curves[\"kl\"])"
   ]
  },
  {
   "cell_type": "code",
   "execution_count": null,
   "id": "refined-attachment",
   "metadata": {},
   "outputs": [],
   "source": [
    "plot_results(x, y, model, q_new)"
   ]
  }
 ],
 "metadata": {
  "kernelspec": {
   "display_name": "Python 3",
   "language": "python",
   "name": "python3"
  },
  "language_info": {
   "codemirror_mode": {
    "name": "ipython",
    "version": 3
   },
   "file_extension": ".py",
   "mimetype": "text/x-python",
   "name": "python",
   "nbconvert_exporter": "python",
   "pygments_lexer": "ipython3",
   "version": "3.8.8"
  }
 },
 "nbformat": 4,
 "nbformat_minor": 5
}
