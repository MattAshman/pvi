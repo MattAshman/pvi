{
 "cells": [
  {
   "cell_type": "code",
   "execution_count": null,
   "id": "controversial-royal",
   "metadata": {},
   "outputs": [],
   "source": [
    "%load_ext autoreload\n",
    "%autoreload 2\n",
    "\n",
    "\n",
    "import os\n",
    "import sys\n",
    "import logging\n",
    "\n",
    "module_path = os.path.abspath(os.path.join(\"../../..\"))\n",
    "if module_path not in sys.path:\n",
    "    sys.path.append(module_path)"
   ]
  },
  {
   "cell_type": "code",
   "execution_count": null,
   "id": "announced-architecture",
   "metadata": {},
   "outputs": [],
   "source": [
    "from pvi.models.logistic_regression import LogisticRegressionModel\n",
    "from pvi.utils.gaussian import mvstandard2natural, mvnatural2standard\n",
    "from pvi.clients.synchronous_client import SynchronousClient\n",
    "from pvi.distributions.exponential_family_distributions import MultivariateGaussianDistribution\n",
    "from pvi.distributions.exponential_family_factors import MultivariateGaussianFactor\n",
    "\n",
    "import torch\n",
    "import numpy as np\n",
    "import matplotlib.pyplot as plt\n",
    "import tqdm.auto as tqdm\n",
    "\n",
    "from torch import nn\n",
    "\n",
    "%matplotlib inline\n",
    "torch.set_default_dtype(torch.float64)"
   ]
  },
  {
   "cell_type": "markdown",
   "id": "popular-inside",
   "metadata": {},
   "source": [
    "# Set up data and helper functions"
   ]
  },
  {
   "cell_type": "code",
   "execution_count": null,
   "id": "supported-creation",
   "metadata": {},
   "outputs": [],
   "source": [
    "x = torch.tensor([[2, 2], [1, 1], [0, 1], [1, 0], [-0.5, 0.1], \n",
    "                  [-1, -1], [-2, -2], [0, -1], [-1, 0], [0.5, 0.1]])\n",
    "y = torch.tensor([1, 1, 1, 1, 1, 0, 0, 0, 0, 0], dtype=torch.float)"
   ]
  },
  {
   "cell_type": "code",
   "execution_count": null,
   "id": "suitable-buffer",
   "metadata": {},
   "outputs": [],
   "source": [
    "def plot_data(x, y):\n",
    "    x_vals = x[:, 0]\n",
    "    y_vals = x[:, 1]\n",
    "    labels = y\n",
    "    \n",
    "    plt.figure()\n",
    "    plt.grid(b=True)\n",
    "    plt.scatter(x_vals, y_vals, c=labels)\n",
    "    plt.show()\n",
    "\n",
    "def plot_results(x, y, client, q):\n",
    "    x_vals = x[:, 0]\n",
    "    y_vals = x[:, 1]\n",
    "    labels = y\n",
    "    \n",
    "    q_np1 = q.nat_params[\"np1\"]\n",
    "    q_np2 = q.nat_params[\"np2\"]\n",
    "    w_map = (-2 * q_np2).inverse().matmul(q_np1).detach()\n",
    "    \n",
    "    plt.figure()\n",
    "    plt.grid(b=True)\n",
    "    plt.scatter(x_vals, y_vals, c=labels)\n",
    "    plt.arrow(0, 0, w_map[0], w_map[1], head_width=0.1)\n",
    "    plt.plot([-2, 2], [(w_map[0]/w_map[1])*2, (w_map[0]/w_map[1])*-2])\n",
    "    plt.show()\n",
    "    \n",
    "def plot_training(training_array):\n",
    "    x_vals = np.arange(1, len(training_array)+1)\n",
    "    plt.figure()\n",
    "    plt.grid(b=True)\n",
    "    plt.plot(x_vals, training_array)\n",
    "    plt.ylabel('ELBO Loss')\n",
    "    plt.xlabel('Step')\n",
    "    plt.show()\n",
    "     \n",
    "data = {\n",
    "    \"x\": x,\n",
    "    \"y\": y,\n",
    "}"
   ]
  },
  {
   "cell_type": "code",
   "execution_count": null,
   "id": "other-sphere",
   "metadata": {},
   "outputs": [],
   "source": [
    "plot_data(x, y)"
   ]
  },
  {
   "cell_type": "markdown",
   "id": "norman-preserve",
   "metadata": {},
   "source": [
    "# Construct logistic regression model"
   ]
  },
  {
   "cell_type": "code",
   "execution_count": null,
   "id": "faced-avenue",
   "metadata": {},
   "outputs": [],
   "source": [
    "hyperparameters = {\n",
    "    \"D\": 2,\n",
    "    \"optimiser\": \"Adam\",\n",
    "    \"optimiser_params\": {\"lr\": 1e-3},\n",
    "    \"epochs\": 1000,\n",
    "    \"batch_size\": 10,\n",
    "    \"num_elbo_samples\": 100,\n",
    "    \"num_predictive_samples\": 1\n",
    "}\n",
    "\n",
    "model = LogisticRegressionModel(hyperparameters=hyperparameters)\n",
    "\n",
    "q = MultivariateGaussianDistribution(\n",
    "    std_params={\n",
    "        \"loc\": torch.zeros(hyperparameters[\"D\"] + 1),\n",
    "        \"covariance_matrix\": torch.eye(hyperparameters[\"D\"] + 1)\n",
    "    },\n",
    "    is_trainable=True,\n",
    ")"
   ]
  },
  {
   "cell_type": "code",
   "execution_count": null,
   "id": "strategic-midwest",
   "metadata": {},
   "outputs": [],
   "source": [
    "plot_results(x, y, model, q)"
   ]
  },
  {
   "cell_type": "markdown",
   "id": "distributed-cable",
   "metadata": {},
   "source": [
    "# Fit data"
   ]
  },
  {
   "cell_type": "code",
   "execution_count": null,
   "id": "fitting-railway",
   "metadata": {},
   "outputs": [],
   "source": [
    "t = MultivariateGaussianFactor(\n",
    "    nat_params = {\n",
    "        \"np1\": torch.zeros(model.hyperparameters[\"D\"] + 1),\n",
    "        \"np2\": 0. * torch.eye(model.hyperparameters[\"D\"] + 1)\n",
    "    }\n",
    ")"
   ]
  },
  {
   "cell_type": "code",
   "execution_count": null,
   "id": "surgical-navigation",
   "metadata": {},
   "outputs": [],
   "source": [
    "# Construct synchronous client.\n",
    "client = SynchronousClient(data=data, model=model, t=t)"
   ]
  },
  {
   "cell_type": "markdown",
   "id": "coordinated-ribbon",
   "metadata": {},
   "source": [
    "## Without optimising model (hyper-)parameters"
   ]
  },
  {
   "cell_type": "code",
   "execution_count": null,
   "id": "creative-august",
   "metadata": {},
   "outputs": [],
   "source": [
    "q_new, t_new = client.update_q(q)"
   ]
  },
  {
   "cell_type": "code",
   "execution_count": null,
   "id": "funky-experience",
   "metadata": {},
   "outputs": [],
   "source": [
    "plot_training(client.training_curves[0][\"elbo\"])"
   ]
  },
  {
   "cell_type": "code",
   "execution_count": null,
   "id": "sized-fitness",
   "metadata": {},
   "outputs": [],
   "source": [
    "plot_training(client.training_curves[0][\"ll\"])"
   ]
  },
  {
   "cell_type": "code",
   "execution_count": null,
   "id": "brazilian-butterfly",
   "metadata": {},
   "outputs": [],
   "source": [
    "plot_training(client.training_curves[0][\"kl\"])"
   ]
  },
  {
   "cell_type": "code",
   "execution_count": null,
   "id": "amber-interim",
   "metadata": {},
   "outputs": [],
   "source": [
    "plot_results(x, y, model, q_new)"
   ]
  },
  {
   "cell_type": "code",
   "execution_count": null,
   "id": "wrapped-output",
   "metadata": {},
   "outputs": [],
   "source": []
  }
 ],
 "metadata": {
  "kernelspec": {
   "display_name": "Python 3",
   "language": "python",
   "name": "python3"
  },
  "language_info": {
   "codemirror_mode": {
    "name": "ipython",
    "version": 3
   },
   "file_extension": ".py",
   "mimetype": "text/x-python",
   "name": "python",
   "nbconvert_exporter": "python",
   "pygments_lexer": "ipython3",
   "version": "3.8.8"
  }
 },
 "nbformat": 4,
 "nbformat_minor": 5
}
