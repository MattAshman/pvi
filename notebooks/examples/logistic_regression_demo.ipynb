{
 "cells": [
  {
   "cell_type": "code",
   "execution_count": null,
   "id": "specific-setting",
   "metadata": {},
   "outputs": [],
   "source": [
    "%load_ext autoreload\n",
    "%autoreload 2\n",
    "\n",
    "\n",
    "import os\n",
    "import sys\n",
    "import logging\n",
    "\n",
    "module_path = os.path.abspath(os.path.join(\"../..\"))\n",
    "if module_path not in sys.path:\n",
    "    sys.path.append(module_path)"
   ]
  },
  {
   "cell_type": "code",
   "execution_count": null,
   "id": "alive-reward",
   "metadata": {},
   "outputs": [],
   "source": [
    "from pvi.models import LogisticRegressionModel\n",
    "from pvi.clients import Client\n",
    "from pvi.distributions import MultivariateGaussianDistribution\n",
    "from pvi.distributions import MultivariateGaussianFactor\n",
    "\n",
    "import torch\n",
    "import numpy as np\n",
    "import matplotlib.pyplot as plt\n",
    "import tqdm.auto as tqdm\n",
    "\n",
    "from torch import nn\n",
    "\n",
    "%matplotlib inline\n",
    "torch.set_default_dtype(torch.float64)"
   ]
  },
  {
   "cell_type": "markdown",
   "id": "superb-jamaica",
   "metadata": {},
   "source": [
    "# Set up data and helper functions"
   ]
  },
  {
   "cell_type": "code",
   "execution_count": null,
   "id": "actual-input",
   "metadata": {},
   "outputs": [],
   "source": [
    "x = torch.tensor([[2, 2], [1, 1], [0, 1], [1, 0], [-0.5, 0.1], \n",
    "                  [-1, -1], [-2, -2], [0, -1], [-1, 0], [0.5, 0.1]])\n",
    "y = torch.tensor([1, 1, 1, 1, 1, 0, 0, 0, 0, 0], dtype=torch.float)"
   ]
  },
  {
   "cell_type": "code",
   "execution_count": null,
   "id": "personal-salvation",
   "metadata": {},
   "outputs": [],
   "source": [
    "def plot_data(x, y):\n",
    "    x_vals = x[:, 0]\n",
    "    y_vals = x[:, 1]\n",
    "    labels = y\n",
    "    \n",
    "    plt.figure()\n",
    "    plt.grid(b=True)\n",
    "    plt.scatter(x_vals, y_vals, c=labels)\n",
    "    plt.show()\n",
    "\n",
    "def plot_results(x, y, client, q):\n",
    "    x_vals = x[:, 0]\n",
    "    y_vals = x[:, 1]\n",
    "    labels = y\n",
    "    \n",
    "    q_np1 = q.nat_params[\"np1\"]\n",
    "    q_np2 = q.nat_params[\"np2\"]\n",
    "    w_map = (-2 * q_np2).inverse().matmul(q_np1).detach()\n",
    "    \n",
    "    plt.figure()\n",
    "    plt.grid(b=True)\n",
    "    plt.scatter(x_vals, y_vals, c=labels)\n",
    "    plt.arrow(0, 0, w_map[0], w_map[1], head_width=0.1)\n",
    "    plt.plot([-2, 2], [(w_map[0]/w_map[1])*2, (w_map[0]/w_map[1])*-2])\n",
    "    plt.show()\n",
    "    \n",
    "def plot_training(training_array):\n",
    "    x_vals = np.arange(1, len(training_array)+1)\n",
    "    plt.figure()\n",
    "    plt.grid(b=True)\n",
    "    plt.plot(x_vals, training_array)\n",
    "    plt.ylabel('ELBO Loss')\n",
    "    plt.xlabel('Step')\n",
    "    plt.show()\n",
    "     \n",
    "data = {\n",
    "    \"x\": x,\n",
    "    \"y\": y,\n",
    "}"
   ]
  },
  {
   "cell_type": "code",
   "execution_count": null,
   "id": "obvious-portable",
   "metadata": {},
   "outputs": [],
   "source": [
    "plot_data(x, y)"
   ]
  },
  {
   "cell_type": "markdown",
   "id": "incident-allergy",
   "metadata": {},
   "source": [
    "# Construct logistic regression model"
   ]
  },
  {
   "cell_type": "code",
   "execution_count": null,
   "id": "stock-buffer",
   "metadata": {},
   "outputs": [],
   "source": [
    "model_config = {\n",
    "    \"D\": 2,\n",
    "}\n",
    "\n",
    "model = LogisticRegressionModel(config=model_config)\n",
    "\n",
    "q = MultivariateGaussianDistribution(\n",
    "    std_params={\n",
    "        \"loc\": torch.zeros(model_config[\"D\"] + 1),\n",
    "        \"covariance_matrix\": torch.eye(model_config[\"D\"] + 1)\n",
    "    },\n",
    "    is_trainable=True,\n",
    ")"
   ]
  },
  {
   "cell_type": "code",
   "execution_count": null,
   "id": "painted-harmony",
   "metadata": {},
   "outputs": [],
   "source": [
    "plot_results(x, y, model, q)"
   ]
  },
  {
   "cell_type": "markdown",
   "id": "backed-nursing",
   "metadata": {},
   "source": [
    "# Fit data"
   ]
  },
  {
   "cell_type": "code",
   "execution_count": null,
   "id": "talented-reaction",
   "metadata": {},
   "outputs": [],
   "source": [
    "t = MultivariateGaussianFactor(\n",
    "    nat_params = {\n",
    "        \"np1\": torch.zeros(model.config[\"D\"] + 1),\n",
    "        \"np2\": 0. * torch.eye(model.config[\"D\"] + 1)\n",
    "    }\n",
    ")"
   ]
  },
  {
   "cell_type": "code",
   "execution_count": null,
   "id": "fleet-juice",
   "metadata": {},
   "outputs": [],
   "source": [
    "client_config = {\n",
    "    \"optimiser\": \"Adam\",\n",
    "    \"optimiser_params\": {\"lr\": 1e-3},\n",
    "    \"epochs\": 1000,\n",
    "    \"batch_size\": 10,\n",
    "    \"num_elbo_samples\": 100,\n",
    "    \"num_predictive_samples\": 1\n",
    "}\n",
    "\n",
    "# Construct client.\n",
    "client = Client(data=data, model=model, t=t, config=client_config)"
   ]
  },
  {
   "cell_type": "markdown",
   "id": "innovative-configuration",
   "metadata": {},
   "source": [
    "## Without optimising model (hyper-)parameters"
   ]
  },
  {
   "cell_type": "code",
   "execution_count": null,
   "id": "thorough-hearing",
   "metadata": {},
   "outputs": [],
   "source": [
    "q_new, t_new = client.update_q(q)"
   ]
  },
  {
   "cell_type": "code",
   "execution_count": null,
   "id": "urban-bundle",
   "metadata": {},
   "outputs": [],
   "source": [
    "plot_training(client.log[\"training_curves\"][0][\"elbo\"])"
   ]
  },
  {
   "cell_type": "code",
   "execution_count": null,
   "id": "accessible-springfield",
   "metadata": {},
   "outputs": [],
   "source": [
    "plot_training(client.log[\"training_curves\"][0][\"ll\"])"
   ]
  },
  {
   "cell_type": "code",
   "execution_count": null,
   "id": "express-oliver",
   "metadata": {},
   "outputs": [],
   "source": [
    "plot_training(client.log[\"training_curves\"][0][\"kl\"])"
   ]
  },
  {
   "cell_type": "code",
   "execution_count": null,
   "id": "interracial-richmond",
   "metadata": {},
   "outputs": [],
   "source": [
    "plot_results(x, y, model, q_new)"
   ]
  },
  {
   "cell_type": "code",
   "execution_count": null,
   "id": "dominican-township",
   "metadata": {},
   "outputs": [],
   "source": []
  }
 ],
 "metadata": {
  "kernelspec": {
   "display_name": "Python 3",
   "language": "python",
   "name": "python3"
  },
  "language_info": {
   "codemirror_mode": {
    "name": "ipython",
    "version": 3
   },
   "file_extension": ".py",
   "mimetype": "text/x-python",
   "name": "python",
   "nbconvert_exporter": "python",
   "pygments_lexer": "ipython3",
   "version": "3.8.8"
  }
 },
 "nbformat": 4,
 "nbformat_minor": 5
}
