{
 "cells": [
  {
   "cell_type": "code",
   "execution_count": null,
   "id": "desirable-branch",
   "metadata": {},
   "outputs": [],
   "source": [
    "%load_ext autoreload\n",
    "%autoreload 2\n",
    "\n",
    "import os\n",
    "import sys\n",
    "import logging\n",
    "\n",
    "module_path = os.path.abspath(os.path.join(\"../..\"))\n",
    "if module_path not in sys.path:\n",
    "    sys.path.append(module_path)"
   ]
  },
  {
   "cell_type": "code",
   "execution_count": null,
   "id": "ignored-durham",
   "metadata": {},
   "outputs": [],
   "source": [
    "from pvi.models.sgp import SparseGaussianProcessModel\n",
    "from pvi.utils.gaussian import mvstandard2natural, mvnatural2standard\n",
    "\n",
    "import torch\n",
    "import numpy as np\n",
    "import matplotlib.pyplot as plt\n",
    "import gpytorch\n",
    "import tqdm.auto as tqdm\n",
    "\n",
    "from torch import nn\n",
    "from gpytorch.kernels import ScaleKernel, RBFKernel\n",
    "\n",
    "%matplotlib inline\n",
    "torch.set_default_dtype(torch.float64)"
   ]
  },
  {
   "cell_type": "markdown",
   "id": "median-vegetarian",
   "metadata": {},
   "source": [
    "# Set up data and helper functions"
   ]
  },
  {
   "cell_type": "code",
   "execution_count": null,
   "id": "interstate-madison",
   "metadata": {},
   "outputs": [],
   "source": [
    "x = np.linspace(-1, 1, 50)\n",
    "y = 2 * np.sin(5*x) + 3 * np.abs(x) * np.random.rand(len(x))\n",
    "\n",
    "x = torch.tensor(x).unsqueeze(1)\n",
    "y = torch.tensor(y).unsqueeze(1)"
   ]
  },
  {
   "cell_type": "code",
   "execution_count": null,
   "id": "radio-orientation",
   "metadata": {},
   "outputs": [],
   "source": [
    "def plot_data(x, y):\n",
    "    plt.figure()\n",
    "    plt.grid(b=True)\n",
    "    plt.scatter(x, y)\n",
    "    plt.show()\n",
    "    \n",
    "def plot_results(x, y, model, q):\n",
    "    pp = model(x, q)\n",
    "    mean = pp.mean.detach()\n",
    "    std = pp.variance.detach() ** 0.5\n",
    "    \n",
    "    samples = pp.sample((20,))\n",
    "    \n",
    "    plt.figure()\n",
    "    plt.grid(b=True)\n",
    "    \n",
    "    for sample in samples:\n",
    "        plt.plot(x, sample, color='k', alpha=.1)\n",
    "        \n",
    "    plt.plot(x.squeeze(-1), mean)\n",
    "    plt.fill_between(x.squeeze(-1), mean-1.96*std, mean+1.96*std, alpha=.25)\n",
    "    plt.scatter(x, y)\n",
    "    plt.show()\n",
    "    \n",
    "def plot_training(training_array):\n",
    "    x_vals = np.arange(1, len(training_array)+1)\n",
    "    plt.figure()\n",
    "    plt.grid(b=True)\n",
    "    plt.plot(x_vals, training_array)\n",
    "    plt.ylabel('ELBO Loss')\n",
    "    plt.xlabel('Step')\n",
    "    plt.show()\n",
    "    \n",
    "data = {\n",
    "    \"x\": x,\n",
    "    \"y\": y,\n",
    "}"
   ]
  },
  {
   "cell_type": "code",
   "execution_count": null,
   "id": "demonstrated-burlington",
   "metadata": {},
   "outputs": [],
   "source": [
    "plot_data(x, y)"
   ]
  },
  {
   "cell_type": "markdown",
   "id": "unlike-attribute",
   "metadata": {},
   "source": [
    "# Construct SGP model"
   ]
  },
  {
   "cell_type": "code",
   "execution_count": null,
   "id": "processed-secretary",
   "metadata": {},
   "outputs": [],
   "source": [
    "hyperparameters = {\n",
    "    \"D\": 1,\n",
    "    \"num_inducing\": 5,\n",
    "    \"kernel_class\": RBFKernel,\n",
    "    \"kernel_params\": {\"lengthscale\": .5},\n",
    "    \"epochs\": 500,\n",
    "    \"optimiser_params\": {\"lr\": 1e-3},\n",
    "    \"batch_size\": 50\n",
    "}\n",
    "\n",
    "inducing_locations = x[::10].clone()\n",
    "\n",
    "model = SparseGaussianProcessModel(inducing_locations=inducing_locations, \n",
    "                                   output_sigma=1., hyperparameters=hyperparameters)\n",
    "\n",
    "q = {\n",
    "    \"distribution\": torch.distributions.MultivariateNormal(\n",
    "        torch.zeros(hyperparameters[\"num_inducing\"]), torch.eye(hyperparameters[\"num_inducing\"])),\n",
    "    \"nat_params\": {\n",
    "        \"np1\": torch.zeros(hyperparameters[\"num_inducing\"]),\n",
    "        \"np2\": -0.5 * torch.eye(hyperparameters[\"num_inducing\"])\n",
    "    }\n",
    "}"
   ]
  },
  {
   "cell_type": "code",
   "execution_count": null,
   "id": "sexual-square",
   "metadata": {},
   "outputs": [],
   "source": [
    "plot_results(x, y, model, q)"
   ]
  },
  {
   "cell_type": "markdown",
   "id": "parallel-orchestra",
   "metadata": {},
   "source": [
    "# Fit data"
   ]
  },
  {
   "cell_type": "code",
   "execution_count": null,
   "id": "previous-shell",
   "metadata": {},
   "outputs": [],
   "source": [
    "t = {\n",
    "    \"nat_params\": {\n",
    "        \"np1\": torch.tensor([0.]*model.hyperparameters[\"num_inducing\"]),\n",
    "        \"np2\": torch.tensor([0.]*model.hyperparameters[\"num_inducing\"]).diag_embed()\n",
    "    }\n",
    "}"
   ]
  },
  {
   "cell_type": "markdown",
   "id": "meaningful-waste",
   "metadata": {},
   "source": [
    "## First without optimising inducing locations"
   ]
  },
  {
   "cell_type": "code",
   "execution_count": null,
   "id": "interested-diesel",
   "metadata": {},
   "outputs": [],
   "source": [
    "q_new, t_new = model.conjugate_update(data, q, t)"
   ]
  },
  {
   "cell_type": "code",
   "execution_count": null,
   "id": "completed-bouquet",
   "metadata": {},
   "outputs": [],
   "source": [
    "qmu, qcov = mvnatural2standard(q_new[\"nat_params\"][\"np1\"], q_new[\"nat_params\"][\"np2\"])\n",
    "q_dist = torch.distributions.MultivariateNormal(qmu, covariance_matrix=qcov)\n",
    "\n",
    "q_new[\"distribution\"] = q_dist"
   ]
  },
  {
   "cell_type": "code",
   "execution_count": null,
   "id": "controlled-income",
   "metadata": {},
   "outputs": [],
   "source": [
    "plot_results(x, y, model, q_new)"
   ]
  },
  {
   "cell_type": "markdown",
   "id": "consolidated-great",
   "metadata": {},
   "source": [
    "## Now optimising inducing locations and kernel hyperparameters"
   ]
  },
  {
   "cell_type": "code",
   "execution_count": null,
   "id": "organizational-wallace",
   "metadata": {},
   "outputs": [],
   "source": [
    "def fit(model, data, q, t_i):\n",
    "    # Set up optimiser.\n",
    "    if model.hyperparameters[\"optimiser_class\"] is not None:\n",
    "        optimiser = model.hyperparameters[\"optimiser_class\"](\n",
    "            model.parameters(), **model.hyperparameters[\"optimiser_params\"]\n",
    "        )\n",
    "    else:\n",
    "        optimiser = optim.Adam(\n",
    "            model.parameters(), **model.hyperparameters[\"optimiser_params\"]\n",
    "        )\n",
    "        \n",
    "    # Local optimisation to find new parameters.\n",
    "    training_curves = {\n",
    "        \"elbo\": [],\n",
    "    }\n",
    "    \n",
    "    # Compute local factor and current global posterior.\n",
    "#     with torch.no_grad():\n",
    "    q, t_i = model.conjugate_update(data, q, t_i)\n",
    "\n",
    "    q_mu, q_cov = mvnatural2standard(q[\"nat_params\"][\"np1\"], q[\"nat_params\"][\"np2\"])\n",
    "    q_dist = torch.distributions.MultivariateNormal(q_mu, covariance_matrix=q_cov)\n",
    "    q[\"distribution\"] = q_dist\n",
    "    \n",
    "    epoch_iter = tqdm.tqdm(range(model.hyperparameters[\"epochs\"]), desc=\"Epochs\")\n",
    "    for i in epoch_iter:\n",
    "        # Compute cavity distribution.\n",
    "        qcav = {\n",
    "            \"nat_params\": {\n",
    "                \"np1\": q[\"nat_params\"][\"np1\"] - t_i[\"nat_params\"][\"np1\"],\n",
    "                \"np2\": q[\"nat_params\"][\"np2\"] - t_i[\"nat_params\"][\"np2\"],\n",
    "            }\n",
    "        }\n",
    "        qcav_mu, qcav_cov = mvnatural2standard(qcav[\"nat_params\"][\"np1\"], qcav[\"nat_params\"][\"np2\"])\n",
    "        qcav_dist = torch.distributions.MultivariateNormal(qcav_mu, qcav_cov)\n",
    "        qcav[\"distribution\"] = qcav_dist\n",
    "        \n",
    "        # Compute ELBO.\n",
    "        elbo = model.elbo(data, q, qcav)\n",
    "        loss = -elbo\n",
    "        \n",
    "        # Backwards step.\n",
    "        loss.backward()\n",
    "        optimiser.step()\n",
    "        optimiser.zero_grad()\n",
    "        \n",
    "        # Compute local factor and current global posterior.\n",
    "#         with torch.no_grad():\n",
    "        q, t_i = model.conjugate_update(data, q, t_i)\n",
    "\n",
    "        q_mu, q_cov = mvnatural2standard(q[\"nat_params\"][\"np1\"], q[\"nat_params\"][\"np2\"])\n",
    "        q_dist = torch.distributions.MultivariateNormal(q_mu, covariance_matrix=q_cov)\n",
    "        q[\"distribution\"] = q_dist\n",
    "        \n",
    "        training_curves[\"elbo\"].append(elbo.item())\n",
    "        \n",
    "    return q, t_i, training_curves"
   ]
  },
  {
   "cell_type": "code",
   "execution_count": null,
   "id": "furnished-indication",
   "metadata": {},
   "outputs": [],
   "source": [
    "q_new, t_new, training_curves = fit(model, data, q, t)"
   ]
  },
  {
   "cell_type": "code",
   "execution_count": null,
   "id": "after-peninsula",
   "metadata": {},
   "outputs": [],
   "source": [
    "plot_training(training_curves[\"elbo\"])"
   ]
  },
  {
   "cell_type": "code",
   "execution_count": null,
   "id": "intensive-dimension",
   "metadata": {},
   "outputs": [],
   "source": [
    "plot_results(x, y, model, q_new)"
   ]
  },
  {
   "cell_type": "code",
   "execution_count": null,
   "id": "congressional-incident",
   "metadata": {},
   "outputs": [],
   "source": []
  }
 ],
 "metadata": {
  "kernelspec": {
   "display_name": "Python 3",
   "language": "python",
   "name": "python3"
  },
  "language_info": {
   "codemirror_mode": {
    "name": "ipython",
    "version": 3
   },
   "file_extension": ".py",
   "mimetype": "text/x-python",
   "name": "python",
   "nbconvert_exporter": "python",
   "pygments_lexer": "ipython3",
   "version": "3.7.3"
  }
 },
 "nbformat": 4,
 "nbformat_minor": 5
}
