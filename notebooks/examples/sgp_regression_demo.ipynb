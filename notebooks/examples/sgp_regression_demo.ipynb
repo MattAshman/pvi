{
 "cells": [
  {
   "cell_type": "code",
   "execution_count": null,
   "id": "canadian-wireless",
   "metadata": {},
   "outputs": [],
   "source": [
    "%load_ext autoreload\n",
    "%autoreload 2\n",
    "\n",
    "\n",
    "import os\n",
    "import sys\n",
    "import logging\n",
    "\n",
    "module_path = os.path.abspath(os.path.join(\"../..\"))\n",
    "if module_path not in sys.path:\n",
    "    sys.path.append(module_path)"
   ]
  },
  {
   "cell_type": "code",
   "execution_count": null,
   "id": "controlling-letters",
   "metadata": {},
   "outputs": [],
   "source": [
    "from pvi.models.sgp import SparseGaussianProcessModel\n",
    "\n",
    "import torch\n",
    "import numpy as np\n",
    "import matplotlib.pyplot as plt\n",
    "import gpytorch\n",
    "\n",
    "from torch import nn\n",
    "from gpytorch.kernels import ScaleKernel, RBFKernel\n",
    "\n",
    "%matplotlib inline\n",
    "torch.set_default_dtype(torch.float64)"
   ]
  },
  {
   "cell_type": "markdown",
   "id": "dietary-local",
   "metadata": {},
   "source": [
    "# Set up data and helper functions"
   ]
  },
  {
   "cell_type": "code",
   "execution_count": null,
   "id": "hispanic-lease",
   "metadata": {},
   "outputs": [],
   "source": [
    "x = np.linspace(-1, 1, 50)\n",
    "y = 2 * np.sin(5*x) + 3 * np.abs(x) * np.random.rand(len(x))\n",
    "\n",
    "x = torch.tensor(x).unsqueeze(1)\n",
    "y = torch.tensor(y).unsqueeze(1)"
   ]
  },
  {
   "cell_type": "code",
   "execution_count": null,
   "id": "charitable-universal",
   "metadata": {},
   "outputs": [],
   "source": [
    "def plot_data(x, y):\n",
    "    plt.figure()\n",
    "    plt.grid(b=True)\n",
    "    plt.scatter(x, y)\n",
    "    plt.show()\n",
    "    \n",
    "def plot_results(x, y, model):\n",
    "    pp = model(x)\n",
    "    mean = pp.mean.detach()\n",
    "    std = pp.variance.detach() ** 0.5\n",
    "    \n",
    "    samples = pp.sample((20,))\n",
    "    \n",
    "    plt.figure()\n",
    "    plt.grid(b=True)\n",
    "    \n",
    "    for sample in samples:\n",
    "        plt.plot(x, sample, color='k', alpha=.1)\n",
    "        \n",
    "    plt.plot(x.squeeze(-1), mean)\n",
    "    plt.fill_between(x.squeeze(-1), mean-1.96*std, mean+1.96*std, alpha=.25)\n",
    "    plt.scatter(x, y)\n",
    "    plt.show()\n",
    "    \n",
    "def plot_training(training_array):\n",
    "    x_vals = np.arange(1, len(training_array)+1)\n",
    "    plt.figure()\n",
    "    plt.grid(b=True)\n",
    "    plt.plot(x_vals, training_array)\n",
    "    plt.ylabel('ELBO Loss')\n",
    "    plt.xlabel('Step')\n",
    "    plt.show()\n",
    "    \n",
    "data = {\n",
    "    \"x\": x,\n",
    "    \"y\": y,\n",
    "}"
   ]
  },
  {
   "cell_type": "code",
   "execution_count": null,
   "id": "expired-sydney",
   "metadata": {},
   "outputs": [],
   "source": [
    "plot_data(x, y)"
   ]
  },
  {
   "cell_type": "markdown",
   "id": "recorded-trigger",
   "metadata": {},
   "source": [
    "# Construct SGP model"
   ]
  },
  {
   "cell_type": "code",
   "execution_count": null,
   "id": "brown-addiction",
   "metadata": {},
   "outputs": [],
   "source": [
    "hyperparameters = {\n",
    "    \"D\": 1,\n",
    "    \"num_inducing\": 5,\n",
    "    \"kernel_class\": RBFKernel,\n",
    "    \"kernel_params\": {\"lengthscale\": .5},\n",
    "    \"epochs\": 500,\n",
    "    \"optimiser_params\": {\"lr\": 1e-3}\n",
    "}\n",
    "\n",
    "inducing_locations = x[::10]\n",
    "\n",
    "model = SparseGaussianProcessModel(inducing_locations=inducing_locations.clone(), \n",
    "                                   output_sigma=1., hyperparameters=hyperparameters)"
   ]
  },
  {
   "cell_type": "code",
   "execution_count": null,
   "id": "spanish-satellite",
   "metadata": {},
   "outputs": [],
   "source": [
    "plot_results(x, y, model)"
   ]
  },
  {
   "cell_type": "markdown",
   "id": "indonesian-wholesale",
   "metadata": {},
   "source": [
    "# Fit data"
   ]
  },
  {
   "cell_type": "code",
   "execution_count": null,
   "id": "hindu-windows",
   "metadata": {},
   "outputs": [],
   "source": [
    "t = {\n",
    "    \"np1\": torch.tensor([0.]*model.hyperparameters[\"num_inducing\"]),\n",
    "    \"np2\": torch.tensor([0.]*model.hyperparameters[\"num_inducing\"]).diag_embed()\n",
    "}"
   ]
  },
  {
   "cell_type": "code",
   "execution_count": null,
   "id": "ceramic-christian",
   "metadata": {},
   "outputs": [],
   "source": [
    "t_new = model.fit(data, t)"
   ]
  },
  {
   "cell_type": "code",
   "execution_count": null,
   "id": "detected-appearance",
   "metadata": {},
   "outputs": [],
   "source": [
    "plot_results(x, y, model)"
   ]
  }
 ],
 "metadata": {
  "kernelspec": {
   "display_name": "Python 3",
   "language": "python",
   "name": "python3"
  },
  "language_info": {
   "codemirror_mode": {
    "name": "ipython",
    "version": 3
   },
   "file_extension": ".py",
   "mimetype": "text/x-python",
   "name": "python",
   "nbconvert_exporter": "python",
   "pygments_lexer": "ipython3",
   "version": "3.8.8"
  }
 },
 "nbformat": 4,
 "nbformat_minor": 5
}
